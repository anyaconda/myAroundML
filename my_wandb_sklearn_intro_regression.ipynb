{
 "cells": [
  {
   "cell_type": "code",
   "execution_count": 1,
   "metadata": {},
   "outputs": [],
   "source": [
    "#meta 2/8/2021 WandB - Visualize SciKi Models - Regression\n",
    "#src https://wandb.ai/lavanyashukla/visualize-sklearn/reports/Visualize-Scikit-Models--Vmlldzo0ODIzNg?galleryTag=scikit\n",
    "\n",
    "#--WandB project: \n",
    "#https://wandb.ai/anya/my-sklearn\n",
    "\n",
    "#history\n",
    "#here  2/8/2021 How To WandB\n"
   ]
  },
  {
   "cell_type": "markdown",
   "metadata": {},
   "source": [
    "# Visualize Scikit Models\n",
    "Visualize your scikit-learn model's performance with WandB\n",
    "\n",
    "Project: https://wandb.ai/anya/my-sklearn\n",
    "\n",
    "## 0. How to instrument your script with wandb:\n",
    "\n",
    "- Install wandb and login from the command line:  \n",
    "pip install --upgrade wandb  \n",
    "wandb login [key]  "
   ]
  },
  {
   "cell_type": "code",
   "execution_count": 2,
   "metadata": {},
   "outputs": [],
   "source": [
    "#!pip install wandb -qq\n",
    "from sklearn.datasets import load_boston\n",
    "from sklearn.model_selection import train_test_split\n",
    "from sklearn.ensemble import RandomForestClassifier\n",
    "from sklearn.svm import SVC\n",
    "from sklearn.linear_model import LinearRegression\n",
    "from sklearn.linear_model import Ridge\n",
    "from sklearn.tree import DecisionTreeClassifier\n",
    "import matplotlib.pyplot as plt\n",
    "import pandas as pd\n",
    "import wandb\n"
   ]
  },
  {
   "cell_type": "code",
   "execution_count": null,
   "metadata": {},
   "outputs": [],
   "source": [
    "#login\n",
    "#!wandb login"
   ]
  },
  {
   "cell_type": "markdown",
   "metadata": {},
   "source": [
    "## 1. Load Data"
   ]
  },
  {
   "cell_type": "code",
   "execution_count": null,
   "metadata": {},
   "outputs": [],
   "source": [
    "# Load data\n",
    "boston = load_boston()\n",
    "X = pd.DataFrame(boston.data, columns=boston.feature_names)\n",
    "y = boston.target\n",
    "\n",
    "X_train, X_test, y_train, y_test = train_test_split(X, y, test_size=0.2)\n"
   ]
  },
  {
   "cell_type": "markdown",
   "metadata": {},
   "source": [
    "## 2. Instrument WandB and Model\n",
    "- Instrument your training script with wandb\n",
    "- Model\n",
    "- Evaluate model\n",
    "- Log metrics and vis"
   ]
  },
  {
   "cell_type": "code",
   "execution_count": 20,
   "metadata": {},
   "outputs": [
    {
     "name": "stderr",
     "output_type": "stream",
     "text": [
      "wandb: wandb version 0.10.18 is available!  To upgrade, please run:\n",
      "wandb:  $ pip install wandb --upgrade\n"
     ]
    },
    {
     "data": {
      "text/html": [
       "\n",
       "                Tracking run with wandb version 0.10.17<br/>\n",
       "                Syncing run <strong style=\"color:#cdcd00\">crimson-deluge-8</strong> to <a href=\"https://wandb.ai\" target=\"_blank\">Weights & Biases</a> <a href=\"https://docs.wandb.com/integrations/jupyter.html\" target=\"_blank\">(Documentation)</a>.<br/>\n",
       "                Project page: <a href=\"https://wandb.ai/anya/my-sklearn\" target=\"_blank\">https://wandb.ai/anya/my-sklearn</a><br/>\n",
       "                Run page: <a href=\"https://wandb.ai/anya/my-sklearn/runs/1uqvxi83\" target=\"_blank\">https://wandb.ai/anya/my-sklearn/runs/1uqvxi83</a><br/>\n",
       "                Run data is saved locally in <code>C:\\Users\\chq-anyac\\Desktop\\1myLearn\\mooc_fastai\\githubRepo\\myMLExperiments\\wandb\\run-20210208_170112-1uqvxi83</code><br/><br/>\n",
       "            "
      ],
      "text/plain": [
       "<IPython.core.display.HTML object>"
      ]
     },
     "metadata": {},
     "output_type": "display_data"
    },
    {
     "name": "stderr",
     "output_type": "stream",
     "text": [
      "wandb: \n",
      "wandb: Plotting Ridge.\n",
      "wandb: Logged summary metrics.\n",
      "wandb: Logged learning curve.\n",
      "wandb: Logged outlier candidates.\n",
      "wandb: WARNING wandb uses only the first 10000 datapoints to create the plots.\n",
      "wandb: Logged residuals.\n",
      "wandb: \n",
      "wandb: Plotting Ridge.\n",
      "wandb: Logged summary metrics.\n",
      "wandb: Logged learning curve.\n",
      "wandb: Logged outlier candidates.\n",
      "wandb: WARNING wandb uses only the first 10000 datapoints to create the plots.\n",
      "wandb: Logged residuals.\n",
      "wandb: \n",
      "wandb: Plotting Ridge.\n",
      "wandb: Logged summary metrics.\n",
      "wandb: Logged learning curve.\n",
      "wandb: Logged outlier candidates.\n",
      "wandb: WARNING wandb uses only the first 10000 datapoints to create the plots.\n",
      "wandb: Logged residuals.\n",
      "wandb: \n",
      "wandb: Plotting Ridge.\n",
      "wandb: Logged summary metrics.\n",
      "wandb: Logged learning curve.\n",
      "wandb: Logged outlier candidates.\n",
      "wandb: WARNING wandb uses only the first 10000 datapoints to create the plots.\n",
      "wandb: Logged residuals.\n",
      "wandb: \n",
      "wandb: Plotting Ridge.\n",
      "wandb: Logged summary metrics.\n",
      "wandb: Logged learning curve.\n",
      "wandb: Logged outlier candidates.\n",
      "wandb: WARNING wandb uses only the first 10000 datapoints to create the plots.\n",
      "wandb: Logged residuals.\n",
      "wandb: \n",
      "wandb: Plotting Ridge.\n",
      "wandb: Logged summary metrics.\n",
      "wandb: Logged learning curve.\n",
      "wandb: Logged outlier candidates.\n",
      "wandb: WARNING wandb uses only the first 10000 datapoints to create the plots.\n",
      "wandb: Logged residuals.\n",
      "wandb: \n",
      "wandb: Plotting Ridge.\n",
      "wandb: Logged summary metrics.\n",
      "wandb: Logged learning curve.\n",
      "wandb: Logged outlier candidates.\n",
      "wandb: WARNING wandb uses only the first 10000 datapoints to create the plots.\n",
      "wandb: Logged residuals.\n",
      "wandb: \n",
      "wandb: Plotting Ridge.\n",
      "wandb: Logged summary metrics.\n",
      "wandb: Logged learning curve.\n",
      "wandb: Logged outlier candidates.\n",
      "wandb: WARNING wandb uses only the first 10000 datapoints to create the plots.\n",
      "wandb: Logged residuals.\n",
      "wandb: \n",
      "wandb: Plotting Ridge.\n",
      "wandb: Logged summary metrics.\n",
      "wandb: Logged learning curve.\n",
      "wandb: Logged outlier candidates.\n",
      "wandb: WARNING wandb uses only the first 10000 datapoints to create the plots.\n",
      "wandb: Logged residuals.\n",
      "wandb: \n",
      "wandb: Plotting Ridge.\n",
      "wandb: Logged summary metrics.\n",
      "wandb: Logged learning curve.\n",
      "wandb: Logged outlier candidates.\n",
      "wandb: WARNING wandb uses only the first 10000 datapoints to create the plots.\n",
      "wandb: Logged residuals.\n"
     ]
    },
    {
     "data": {
      "text/html": [
       "<br/>Waiting for W&B process to finish, PID 17468<br/>Program ended successfully."
      ],
      "text/plain": [
       "<IPython.core.display.HTML object>"
      ]
     },
     "metadata": {},
     "output_type": "display_data"
    },
    {
     "data": {
      "application/vnd.jupyter.widget-view+json": {
       "model_id": "",
       "version_major": 2,
       "version_minor": 0
      },
      "text/plain": [
       "VBox(children=(Label(value=' 0.64MB of 0.67MB uploaded (0.00MB deduped)\\r'), FloatProgress(value=0.95768178014…"
      ]
     },
     "metadata": {},
     "output_type": "display_data"
    },
    {
     "data": {
      "text/html": [
       "Find user logs for this run at: <code>C:\\Users\\chq-anyac\\Desktop\\1myLearn\\mooc_fastai\\githubRepo\\myMLExperiments\\wandb\\run-20210208_170112-1uqvxi83\\logs\\debug.log</code>"
      ],
      "text/plain": [
       "<IPython.core.display.HTML object>"
      ]
     },
     "metadata": {},
     "output_type": "display_data"
    },
    {
     "data": {
      "text/html": [
       "Find internal logs for this run at: <code>C:\\Users\\chq-anyac\\Desktop\\1myLearn\\mooc_fastai\\githubRepo\\myMLExperiments\\wandb\\run-20210208_170112-1uqvxi83\\logs\\debug-internal.log</code>"
      ],
      "text/plain": [
       "<IPython.core.display.HTML object>"
      ]
     },
     "metadata": {},
     "output_type": "display_data"
    },
    {
     "data": {
      "text/html": [
       "<h3>Run summary:</h3><br/><style>\n",
       "    table.wandb td:nth-child(1) { padding: 0 10px; text-align: right }\n",
       "    </style><table class=\"wandb\">\n",
       "<tr><td>score_train</td><td>0.75855</td></tr><tr><td>score_test</td><td>0.59387</td></tr><tr><td>_step</td><td>59</td></tr><tr><td>_runtime</td><td>10</td></tr><tr><td>_timestamp</td><td>1612832482</td></tr></table>"
      ],
      "text/plain": [
       "<IPython.core.display.HTML object>"
      ]
     },
     "metadata": {},
     "output_type": "display_data"
    },
    {
     "data": {
      "text/html": [
       "<h3>Run history:</h3><br/><style>\n",
       "    table.wandb td:nth-child(1) { padding: 0 10px; text-align: right }\n",
       "    </style><table class=\"wandb\">\n",
       "<tr><td>score_train</td><td>▁▁▁▁▁▁▁▁▁▁</td></tr><tr><td>score_test</td><td>▁▁▁▁▁▁▁▁▁▁</td></tr><tr><td>_step</td><td>▁▁▁▁▂▂▂▂▂▃▃▃▃▃▃▄▄▄▄▄▅▅▅▅▅▅▆▆▆▆▆▆▇▇▇▇▇███</td></tr><tr><td>_runtime</td><td>▁▁▁▂▂▂▂▂▃▃▃▃▃▃▄▄▄▄▅▅▅▅▅▅▅▅▅▅▅▅▆▆▆▆▇▇▇▇▇█</td></tr><tr><td>_timestamp</td><td>▁▁▁▂▂▂▂▂▃▃▃▃▃▃▄▄▄▄▅▅▅▅▅▅▅▅▅▅▅▅▆▆▆▆▇▇▇▇▇█</td></tr></table><br/>"
      ],
      "text/plain": [
       "<IPython.core.display.HTML object>"
      ]
     },
     "metadata": {},
     "output_type": "display_data"
    },
    {
     "data": {
      "text/html": [
       "Synced 5 W&B file(s), 50 media file(s), 0 artifact file(s) and 0 other file(s)"
      ],
      "text/plain": [
       "<IPython.core.display.HTML object>"
      ]
     },
     "metadata": {},
     "output_type": "display_data"
    },
    {
     "data": {
      "text/html": [
       "\n",
       "                    <br/>Synced <strong style=\"color:#cdcd00\">crimson-deluge-8</strong>: <a href=\"https://wandb.ai/anya/my-sklearn/runs/1uqvxi83\" target=\"_blank\">https://wandb.ai/anya/my-sklearn/runs/1uqvxi83</a><br/>\n",
       "                "
      ],
      "text/plain": [
       "<IPython.core.display.HTML object>"
      ]
     },
     "metadata": {},
     "output_type": "display_data"
    }
   ],
   "source": [
    "# initialize a new run\n",
    "experiment_name = 'POC'\n",
    "wandb.init(project=\"my-sklearn\", group=experiment_name)\n",
    "\n",
    "for x in range(10):\n",
    "    # Train model, get predictions\n",
    "    reg = Ridge()\n",
    "    reg.fit(X, y)\n",
    "    y_pred = reg.predict(X_test)\n",
    "\n",
    "    # Evaluate model performance\n",
    "    score_train = reg.score(X_train, y_train)\n",
    "    score_test = reg.score(X_test, y_test)\n",
    "\n",
    "    # Log metrics with wandb\n",
    "    wandb.log({\"score_train\":score_train, \"score_test\":score_test})\n",
    "\n",
    "    # Visualize all regression plots\n",
    "    wandb.sklearn.plot_regressor(reg, X_train, X_test, y_train, y_test, 'Ridge')\n",
    "\n",
    "    # Make individual plots\n",
    "    wandb.sklearn.plot_outlier_candidates(reg, X, y)\n",
    "    \n",
    "wandb.finish()"
   ]
  },
  {
   "cell_type": "markdown",
   "metadata": {},
   "source": [
    "https://colab.research.google.com/github/wandb/examples/blob/master/colabs/intro/Intro_to_Weights_%26_Biases.ipynb#scrollTo=6vrgcv66ypoj\n",
    "\n",
    "# 📏 Best Practices\n",
    "\n",
    "1. **Projects**: Log multiple runs to a project to compare them. `wandb.init(project=\"project-name\")`\n",
    "2. **Groups**: For multiple processes or cross validation folds, log each process as a run and group them together. `wandb.init(group='experiment-1')`\n",
    "3. **Tags**: Add tags to track your current baseline or production model.\n",
    "4. **Notes**: Type notes in the table to track the changes between runs.\n",
    "5. **Reports**: Take quick notes on progress to share with colleagues and make dashboards and snapshots of your ML projects.\n",
    "\n",
    "\n",
    "### 🤓 Advanced Setup\n",
    "\n",
    "1. [Environment variables](https://docs.wandb.com/library/environment-variables): Set API keys in environment variables so you can run training on a managed cluster.\n",
    "2. [Offline mode](https://docs.wandb.com/library/technical-faq#can-i-run-wandb-offline): Use `dryrun` mode to train offline and sync results later.\n",
    "3. [On-prem](https://docs.wandb.com/self-hosted): Install W&B in a private cloud or air-gapped servers in your own infrastructure. We have local installations for everyone from academics to enterprise teams.\n",
    "4. [Sweeps](http://wandb.me/sweeps-colab): Set up hyperparameter search quickly with our lightweight tool for tuning.\n",
    "5. [Artifacts](http://wandb.me/artifacts-colab): Track and version models and datasets in a streamlined way that automatically picks up your pipeline steps as you train models."
   ]
  },
  {
   "cell_type": "code",
   "execution_count": null,
   "metadata": {},
   "outputs": [],
   "source": []
  }
 ],
 "metadata": {
  "kernelspec": {
   "display_name": "Python 3",
   "language": "python",
   "name": "python3"
  },
  "language_info": {
   "codemirror_mode": {
    "name": "ipython",
    "version": 3
   },
   "file_extension": ".py",
   "mimetype": "text/x-python",
   "name": "python",
   "nbconvert_exporter": "python",
   "pygments_lexer": "ipython3",
   "version": "3.7.4"
  }
 },
 "nbformat": 4,
 "nbformat_minor": 4
}
