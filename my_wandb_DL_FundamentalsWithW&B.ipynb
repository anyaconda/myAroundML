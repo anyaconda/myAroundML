{
  "nbformat": 4,
  "nbformat_minor": 0,
  "metadata": {
    "accelerator": "GPU",
    "colab": {
      "name": "my_wandb_DL_FundamentalsWithW&B.ipynb",
      "provenance": [],
      "collapsed_sections": [],
      "include_colab_link": true
    },
    "kernelspec": {
      "display_name": "Python 3",
      "name": "python3"
    },
    "widgets": {
      "application/vnd.jupyter.widget-state+json": {
        "07cf3ab3f1514f7bbb63416af05ea8fa": {
          "model_module": "@jupyter-widgets/controls",
          "model_name": "VBoxModel",
          "state": {
            "_view_name": "VBoxView",
            "_dom_classes": [],
            "_model_name": "VBoxModel",
            "_view_module": "@jupyter-widgets/controls",
            "_model_module_version": "1.5.0",
            "_view_count": null,
            "_view_module_version": "1.5.0",
            "box_style": "",
            "layout": "IPY_MODEL_b25c7d3dd57348e0a7a3ad80c19b3e94",
            "_model_module": "@jupyter-widgets/controls",
            "children": [
              "IPY_MODEL_13ccbacde7a34f47877121406ddc7df6",
              "IPY_MODEL_f6d7b9aeaad64588bdf593a7c7127aa2"
            ]
          }
        },
        "b25c7d3dd57348e0a7a3ad80c19b3e94": {
          "model_module": "@jupyter-widgets/base",
          "model_name": "LayoutModel",
          "state": {
            "_view_name": "LayoutView",
            "grid_template_rows": null,
            "right": null,
            "justify_content": null,
            "_view_module": "@jupyter-widgets/base",
            "overflow": null,
            "_model_module_version": "1.2.0",
            "_view_count": null,
            "flex_flow": null,
            "width": null,
            "min_width": null,
            "border": null,
            "align_items": null,
            "bottom": null,
            "_model_module": "@jupyter-widgets/base",
            "top": null,
            "grid_column": null,
            "overflow_y": null,
            "overflow_x": null,
            "grid_auto_flow": null,
            "grid_area": null,
            "grid_template_columns": null,
            "flex": null,
            "_model_name": "LayoutModel",
            "justify_items": null,
            "grid_row": null,
            "max_height": null,
            "align_content": null,
            "visibility": null,
            "align_self": null,
            "height": null,
            "min_height": null,
            "padding": null,
            "grid_auto_rows": null,
            "grid_gap": null,
            "max_width": null,
            "order": null,
            "_view_module_version": "1.2.0",
            "grid_template_areas": null,
            "object_position": null,
            "object_fit": null,
            "grid_auto_columns": null,
            "margin": null,
            "display": null,
            "left": null
          }
        },
        "13ccbacde7a34f47877121406ddc7df6": {
          "model_module": "@jupyter-widgets/controls",
          "model_name": "LabelModel",
          "state": {
            "_view_name": "LabelView",
            "style": "IPY_MODEL_c91f970f9e1d4d6aa4584312b3296340",
            "_dom_classes": [],
            "description": "",
            "_model_name": "LabelModel",
            "placeholder": "​",
            "_view_module": "@jupyter-widgets/controls",
            "_model_module_version": "1.5.0",
            "value": " 25.78MB of 25.78MB uploaded (0.00MB deduped)\r",
            "_view_count": null,
            "_view_module_version": "1.5.0",
            "description_tooltip": null,
            "_model_module": "@jupyter-widgets/controls",
            "layout": "IPY_MODEL_b6a55ba980304445a2120bf465672a33"
          }
        },
        "f6d7b9aeaad64588bdf593a7c7127aa2": {
          "model_module": "@jupyter-widgets/controls",
          "model_name": "FloatProgressModel",
          "state": {
            "_view_name": "ProgressView",
            "style": "IPY_MODEL_d518537cb7554ff7b8823e87748b3a80",
            "_dom_classes": [],
            "description": "",
            "_model_name": "FloatProgressModel",
            "bar_style": "",
            "max": 1,
            "_view_module": "@jupyter-widgets/controls",
            "_model_module_version": "1.5.0",
            "value": 1,
            "_view_count": null,
            "_view_module_version": "1.5.0",
            "orientation": "horizontal",
            "min": 0,
            "description_tooltip": null,
            "_model_module": "@jupyter-widgets/controls",
            "layout": "IPY_MODEL_ba5f2058feea4a2ba666b10c9c1a6783"
          }
        },
        "c91f970f9e1d4d6aa4584312b3296340": {
          "model_module": "@jupyter-widgets/controls",
          "model_name": "DescriptionStyleModel",
          "state": {
            "_view_name": "StyleView",
            "_model_name": "DescriptionStyleModel",
            "description_width": "",
            "_view_module": "@jupyter-widgets/base",
            "_model_module_version": "1.5.0",
            "_view_count": null,
            "_view_module_version": "1.2.0",
            "_model_module": "@jupyter-widgets/controls"
          }
        },
        "b6a55ba980304445a2120bf465672a33": {
          "model_module": "@jupyter-widgets/base",
          "model_name": "LayoutModel",
          "state": {
            "_view_name": "LayoutView",
            "grid_template_rows": null,
            "right": null,
            "justify_content": null,
            "_view_module": "@jupyter-widgets/base",
            "overflow": null,
            "_model_module_version": "1.2.0",
            "_view_count": null,
            "flex_flow": null,
            "width": null,
            "min_width": null,
            "border": null,
            "align_items": null,
            "bottom": null,
            "_model_module": "@jupyter-widgets/base",
            "top": null,
            "grid_column": null,
            "overflow_y": null,
            "overflow_x": null,
            "grid_auto_flow": null,
            "grid_area": null,
            "grid_template_columns": null,
            "flex": null,
            "_model_name": "LayoutModel",
            "justify_items": null,
            "grid_row": null,
            "max_height": null,
            "align_content": null,
            "visibility": null,
            "align_self": null,
            "height": null,
            "min_height": null,
            "padding": null,
            "grid_auto_rows": null,
            "grid_gap": null,
            "max_width": null,
            "order": null,
            "_view_module_version": "1.2.0",
            "grid_template_areas": null,
            "object_position": null,
            "object_fit": null,
            "grid_auto_columns": null,
            "margin": null,
            "display": null,
            "left": null
          }
        },
        "d518537cb7554ff7b8823e87748b3a80": {
          "model_module": "@jupyter-widgets/controls",
          "model_name": "ProgressStyleModel",
          "state": {
            "_view_name": "StyleView",
            "_model_name": "ProgressStyleModel",
            "description_width": "",
            "_view_module": "@jupyter-widgets/base",
            "_model_module_version": "1.5.0",
            "_view_count": null,
            "_view_module_version": "1.2.0",
            "bar_color": null,
            "_model_module": "@jupyter-widgets/controls"
          }
        },
        "ba5f2058feea4a2ba666b10c9c1a6783": {
          "model_module": "@jupyter-widgets/base",
          "model_name": "LayoutModel",
          "state": {
            "_view_name": "LayoutView",
            "grid_template_rows": null,
            "right": null,
            "justify_content": null,
            "_view_module": "@jupyter-widgets/base",
            "overflow": null,
            "_model_module_version": "1.2.0",
            "_view_count": null,
            "flex_flow": null,
            "width": null,
            "min_width": null,
            "border": null,
            "align_items": null,
            "bottom": null,
            "_model_module": "@jupyter-widgets/base",
            "top": null,
            "grid_column": null,
            "overflow_y": null,
            "overflow_x": null,
            "grid_auto_flow": null,
            "grid_area": null,
            "grid_template_columns": null,
            "flex": null,
            "_model_name": "LayoutModel",
            "justify_items": null,
            "grid_row": null,
            "max_height": null,
            "align_content": null,
            "visibility": null,
            "align_self": null,
            "height": null,
            "min_height": null,
            "padding": null,
            "grid_auto_rows": null,
            "grid_gap": null,
            "max_width": null,
            "order": null,
            "_view_module_version": "1.2.0",
            "grid_template_areas": null,
            "object_position": null,
            "object_fit": null,
            "grid_auto_columns": null,
            "margin": null,
            "display": null,
            "left": null
          }
        },
        "bf7d10995ff0419d9fbc92f021f57492": {
          "model_module": "@jupyter-widgets/controls",
          "model_name": "VBoxModel",
          "state": {
            "_view_name": "VBoxView",
            "_dom_classes": [],
            "_model_name": "VBoxModel",
            "_view_module": "@jupyter-widgets/controls",
            "_model_module_version": "1.5.0",
            "_view_count": null,
            "_view_module_version": "1.5.0",
            "box_style": "",
            "layout": "IPY_MODEL_c52653da78ba4ac5bb762ff5f3cac47b",
            "_model_module": "@jupyter-widgets/controls",
            "children": [
              "IPY_MODEL_b1aa1a7fe60648148f5e938cfe8dcd1f",
              "IPY_MODEL_cd5cac008b2d4711b01a627af1c9cfbc"
            ]
          }
        },
        "c52653da78ba4ac5bb762ff5f3cac47b": {
          "model_module": "@jupyter-widgets/base",
          "model_name": "LayoutModel",
          "state": {
            "_view_name": "LayoutView",
            "grid_template_rows": null,
            "right": null,
            "justify_content": null,
            "_view_module": "@jupyter-widgets/base",
            "overflow": null,
            "_model_module_version": "1.2.0",
            "_view_count": null,
            "flex_flow": null,
            "width": null,
            "min_width": null,
            "border": null,
            "align_items": null,
            "bottom": null,
            "_model_module": "@jupyter-widgets/base",
            "top": null,
            "grid_column": null,
            "overflow_y": null,
            "overflow_x": null,
            "grid_auto_flow": null,
            "grid_area": null,
            "grid_template_columns": null,
            "flex": null,
            "_model_name": "LayoutModel",
            "justify_items": null,
            "grid_row": null,
            "max_height": null,
            "align_content": null,
            "visibility": null,
            "align_self": null,
            "height": null,
            "min_height": null,
            "padding": null,
            "grid_auto_rows": null,
            "grid_gap": null,
            "max_width": null,
            "order": null,
            "_view_module_version": "1.2.0",
            "grid_template_areas": null,
            "object_position": null,
            "object_fit": null,
            "grid_auto_columns": null,
            "margin": null,
            "display": null,
            "left": null
          }
        },
        "b1aa1a7fe60648148f5e938cfe8dcd1f": {
          "model_module": "@jupyter-widgets/controls",
          "model_name": "LabelModel",
          "state": {
            "_view_name": "LabelView",
            "style": "IPY_MODEL_538079d3f5194b43b16789853078b13f",
            "_dom_classes": [],
            "description": "",
            "_model_name": "LabelModel",
            "placeholder": "​",
            "_view_module": "@jupyter-widgets/controls",
            "_model_module_version": "1.5.0",
            "value": " 24.25MB of 24.25MB uploaded (0.00MB deduped)\r",
            "_view_count": null,
            "_view_module_version": "1.5.0",
            "description_tooltip": null,
            "_model_module": "@jupyter-widgets/controls",
            "layout": "IPY_MODEL_d2f0105f9a4b4de88ec05f17e516db85"
          }
        },
        "cd5cac008b2d4711b01a627af1c9cfbc": {
          "model_module": "@jupyter-widgets/controls",
          "model_name": "FloatProgressModel",
          "state": {
            "_view_name": "ProgressView",
            "style": "IPY_MODEL_b3fca47feb094e1ab26f14404b4ae0de",
            "_dom_classes": [],
            "description": "",
            "_model_name": "FloatProgressModel",
            "bar_style": "",
            "max": 1,
            "_view_module": "@jupyter-widgets/controls",
            "_model_module_version": "1.5.0",
            "value": 1,
            "_view_count": null,
            "_view_module_version": "1.5.0",
            "orientation": "horizontal",
            "min": 0,
            "description_tooltip": null,
            "_model_module": "@jupyter-widgets/controls",
            "layout": "IPY_MODEL_fc3862e45c8140d8a2060ab2e9ec5fc9"
          }
        },
        "538079d3f5194b43b16789853078b13f": {
          "model_module": "@jupyter-widgets/controls",
          "model_name": "DescriptionStyleModel",
          "state": {
            "_view_name": "StyleView",
            "_model_name": "DescriptionStyleModel",
            "description_width": "",
            "_view_module": "@jupyter-widgets/base",
            "_model_module_version": "1.5.0",
            "_view_count": null,
            "_view_module_version": "1.2.0",
            "_model_module": "@jupyter-widgets/controls"
          }
        },
        "d2f0105f9a4b4de88ec05f17e516db85": {
          "model_module": "@jupyter-widgets/base",
          "model_name": "LayoutModel",
          "state": {
            "_view_name": "LayoutView",
            "grid_template_rows": null,
            "right": null,
            "justify_content": null,
            "_view_module": "@jupyter-widgets/base",
            "overflow": null,
            "_model_module_version": "1.2.0",
            "_view_count": null,
            "flex_flow": null,
            "width": null,
            "min_width": null,
            "border": null,
            "align_items": null,
            "bottom": null,
            "_model_module": "@jupyter-widgets/base",
            "top": null,
            "grid_column": null,
            "overflow_y": null,
            "overflow_x": null,
            "grid_auto_flow": null,
            "grid_area": null,
            "grid_template_columns": null,
            "flex": null,
            "_model_name": "LayoutModel",
            "justify_items": null,
            "grid_row": null,
            "max_height": null,
            "align_content": null,
            "visibility": null,
            "align_self": null,
            "height": null,
            "min_height": null,
            "padding": null,
            "grid_auto_rows": null,
            "grid_gap": null,
            "max_width": null,
            "order": null,
            "_view_module_version": "1.2.0",
            "grid_template_areas": null,
            "object_position": null,
            "object_fit": null,
            "grid_auto_columns": null,
            "margin": null,
            "display": null,
            "left": null
          }
        },
        "b3fca47feb094e1ab26f14404b4ae0de": {
          "model_module": "@jupyter-widgets/controls",
          "model_name": "ProgressStyleModel",
          "state": {
            "_view_name": "StyleView",
            "_model_name": "ProgressStyleModel",
            "description_width": "",
            "_view_module": "@jupyter-widgets/base",
            "_model_module_version": "1.5.0",
            "_view_count": null,
            "_view_module_version": "1.2.0",
            "bar_color": null,
            "_model_module": "@jupyter-widgets/controls"
          }
        },
        "fc3862e45c8140d8a2060ab2e9ec5fc9": {
          "model_module": "@jupyter-widgets/base",
          "model_name": "LayoutModel",
          "state": {
            "_view_name": "LayoutView",
            "grid_template_rows": null,
            "right": null,
            "justify_content": null,
            "_view_module": "@jupyter-widgets/base",
            "overflow": null,
            "_model_module_version": "1.2.0",
            "_view_count": null,
            "flex_flow": null,
            "width": null,
            "min_width": null,
            "border": null,
            "align_items": null,
            "bottom": null,
            "_model_module": "@jupyter-widgets/base",
            "top": null,
            "grid_column": null,
            "overflow_y": null,
            "overflow_x": null,
            "grid_auto_flow": null,
            "grid_area": null,
            "grid_template_columns": null,
            "flex": null,
            "_model_name": "LayoutModel",
            "justify_items": null,
            "grid_row": null,
            "max_height": null,
            "align_content": null,
            "visibility": null,
            "align_self": null,
            "height": null,
            "min_height": null,
            "padding": null,
            "grid_auto_rows": null,
            "grid_gap": null,
            "max_width": null,
            "order": null,
            "_view_module_version": "1.2.0",
            "grid_template_areas": null,
            "object_position": null,
            "object_fit": null,
            "grid_auto_columns": null,
            "margin": null,
            "display": null,
            "left": null
          }
        },
        "f18f35e63fc643159ded59dc4f7c4e65": {
          "model_module": "@jupyter-widgets/controls",
          "model_name": "VBoxModel",
          "state": {
            "_view_name": "VBoxView",
            "_dom_classes": [],
            "_model_name": "VBoxModel",
            "_view_module": "@jupyter-widgets/controls",
            "_model_module_version": "1.5.0",
            "_view_count": null,
            "_view_module_version": "1.5.0",
            "box_style": "",
            "layout": "IPY_MODEL_1f54f43daf2646d1998462c0cde3f057",
            "_model_module": "@jupyter-widgets/controls",
            "children": [
              "IPY_MODEL_bb9f542eeef8464484078738a3a9067d",
              "IPY_MODEL_cfe0b3e6413849139c6ae30787188d1e"
            ]
          }
        },
        "1f54f43daf2646d1998462c0cde3f057": {
          "model_module": "@jupyter-widgets/base",
          "model_name": "LayoutModel",
          "state": {
            "_view_name": "LayoutView",
            "grid_template_rows": null,
            "right": null,
            "justify_content": null,
            "_view_module": "@jupyter-widgets/base",
            "overflow": null,
            "_model_module_version": "1.2.0",
            "_view_count": null,
            "flex_flow": null,
            "width": null,
            "min_width": null,
            "border": null,
            "align_items": null,
            "bottom": null,
            "_model_module": "@jupyter-widgets/base",
            "top": null,
            "grid_column": null,
            "overflow_y": null,
            "overflow_x": null,
            "grid_auto_flow": null,
            "grid_area": null,
            "grid_template_columns": null,
            "flex": null,
            "_model_name": "LayoutModel",
            "justify_items": null,
            "grid_row": null,
            "max_height": null,
            "align_content": null,
            "visibility": null,
            "align_self": null,
            "height": null,
            "min_height": null,
            "padding": null,
            "grid_auto_rows": null,
            "grid_gap": null,
            "max_width": null,
            "order": null,
            "_view_module_version": "1.2.0",
            "grid_template_areas": null,
            "object_position": null,
            "object_fit": null,
            "grid_auto_columns": null,
            "margin": null,
            "display": null,
            "left": null
          }
        },
        "bb9f542eeef8464484078738a3a9067d": {
          "model_module": "@jupyter-widgets/controls",
          "model_name": "LabelModel",
          "state": {
            "_view_name": "LabelView",
            "style": "IPY_MODEL_76ff4f6bb6b7405ea8ea88204dccea2c",
            "_dom_classes": [],
            "description": "",
            "_model_name": "LabelModel",
            "placeholder": "​",
            "_view_module": "@jupyter-widgets/controls",
            "_model_module_version": "1.5.0",
            "value": " 20.90MB of 20.90MB uploaded (0.00MB deduped)\r",
            "_view_count": null,
            "_view_module_version": "1.5.0",
            "description_tooltip": null,
            "_model_module": "@jupyter-widgets/controls",
            "layout": "IPY_MODEL_41d81970ef0a47bf8d796ba1bd152bf2"
          }
        },
        "cfe0b3e6413849139c6ae30787188d1e": {
          "model_module": "@jupyter-widgets/controls",
          "model_name": "FloatProgressModel",
          "state": {
            "_view_name": "ProgressView",
            "style": "IPY_MODEL_9e9d089cb28f4c15914055d4ca30421c",
            "_dom_classes": [],
            "description": "",
            "_model_name": "FloatProgressModel",
            "bar_style": "",
            "max": 1,
            "_view_module": "@jupyter-widgets/controls",
            "_model_module_version": "1.5.0",
            "value": 1,
            "_view_count": null,
            "_view_module_version": "1.5.0",
            "orientation": "horizontal",
            "min": 0,
            "description_tooltip": null,
            "_model_module": "@jupyter-widgets/controls",
            "layout": "IPY_MODEL_710e32eca628462d8408f9ee50998dc3"
          }
        },
        "76ff4f6bb6b7405ea8ea88204dccea2c": {
          "model_module": "@jupyter-widgets/controls",
          "model_name": "DescriptionStyleModel",
          "state": {
            "_view_name": "StyleView",
            "_model_name": "DescriptionStyleModel",
            "description_width": "",
            "_view_module": "@jupyter-widgets/base",
            "_model_module_version": "1.5.0",
            "_view_count": null,
            "_view_module_version": "1.2.0",
            "_model_module": "@jupyter-widgets/controls"
          }
        },
        "41d81970ef0a47bf8d796ba1bd152bf2": {
          "model_module": "@jupyter-widgets/base",
          "model_name": "LayoutModel",
          "state": {
            "_view_name": "LayoutView",
            "grid_template_rows": null,
            "right": null,
            "justify_content": null,
            "_view_module": "@jupyter-widgets/base",
            "overflow": null,
            "_model_module_version": "1.2.0",
            "_view_count": null,
            "flex_flow": null,
            "width": null,
            "min_width": null,
            "border": null,
            "align_items": null,
            "bottom": null,
            "_model_module": "@jupyter-widgets/base",
            "top": null,
            "grid_column": null,
            "overflow_y": null,
            "overflow_x": null,
            "grid_auto_flow": null,
            "grid_area": null,
            "grid_template_columns": null,
            "flex": null,
            "_model_name": "LayoutModel",
            "justify_items": null,
            "grid_row": null,
            "max_height": null,
            "align_content": null,
            "visibility": null,
            "align_self": null,
            "height": null,
            "min_height": null,
            "padding": null,
            "grid_auto_rows": null,
            "grid_gap": null,
            "max_width": null,
            "order": null,
            "_view_module_version": "1.2.0",
            "grid_template_areas": null,
            "object_position": null,
            "object_fit": null,
            "grid_auto_columns": null,
            "margin": null,
            "display": null,
            "left": null
          }
        },
        "9e9d089cb28f4c15914055d4ca30421c": {
          "model_module": "@jupyter-widgets/controls",
          "model_name": "ProgressStyleModel",
          "state": {
            "_view_name": "StyleView",
            "_model_name": "ProgressStyleModel",
            "description_width": "",
            "_view_module": "@jupyter-widgets/base",
            "_model_module_version": "1.5.0",
            "_view_count": null,
            "_view_module_version": "1.2.0",
            "bar_color": null,
            "_model_module": "@jupyter-widgets/controls"
          }
        },
        "710e32eca628462d8408f9ee50998dc3": {
          "model_module": "@jupyter-widgets/base",
          "model_name": "LayoutModel",
          "state": {
            "_view_name": "LayoutView",
            "grid_template_rows": null,
            "right": null,
            "justify_content": null,
            "_view_module": "@jupyter-widgets/base",
            "overflow": null,
            "_model_module_version": "1.2.0",
            "_view_count": null,
            "flex_flow": null,
            "width": null,
            "min_width": null,
            "border": null,
            "align_items": null,
            "bottom": null,
            "_model_module": "@jupyter-widgets/base",
            "top": null,
            "grid_column": null,
            "overflow_y": null,
            "overflow_x": null,
            "grid_auto_flow": null,
            "grid_area": null,
            "grid_template_columns": null,
            "flex": null,
            "_model_name": "LayoutModel",
            "justify_items": null,
            "grid_row": null,
            "max_height": null,
            "align_content": null,
            "visibility": null,
            "align_self": null,
            "height": null,
            "min_height": null,
            "padding": null,
            "grid_auto_rows": null,
            "grid_gap": null,
            "max_width": null,
            "order": null,
            "_view_module_version": "1.2.0",
            "grid_template_areas": null,
            "object_position": null,
            "object_fit": null,
            "grid_auto_columns": null,
            "margin": null,
            "display": null,
            "left": null
          }
        },
        "9b28476e79554f7aadd65d0d0b0d739d": {
          "model_module": "@jupyter-widgets/controls",
          "model_name": "VBoxModel",
          "state": {
            "_view_name": "VBoxView",
            "_dom_classes": [],
            "_model_name": "VBoxModel",
            "_view_module": "@jupyter-widgets/controls",
            "_model_module_version": "1.5.0",
            "_view_count": null,
            "_view_module_version": "1.5.0",
            "box_style": "",
            "layout": "IPY_MODEL_0e2dfee0907f454a9b690e61acab14ba",
            "_model_module": "@jupyter-widgets/controls",
            "children": [
              "IPY_MODEL_7a424059b0e64aac8fa5e7c658a289a2",
              "IPY_MODEL_9b55e71682fa420bb5762d4e428e944e"
            ]
          }
        },
        "0e2dfee0907f454a9b690e61acab14ba": {
          "model_module": "@jupyter-widgets/base",
          "model_name": "LayoutModel",
          "state": {
            "_view_name": "LayoutView",
            "grid_template_rows": null,
            "right": null,
            "justify_content": null,
            "_view_module": "@jupyter-widgets/base",
            "overflow": null,
            "_model_module_version": "1.2.0",
            "_view_count": null,
            "flex_flow": null,
            "width": null,
            "min_width": null,
            "border": null,
            "align_items": null,
            "bottom": null,
            "_model_module": "@jupyter-widgets/base",
            "top": null,
            "grid_column": null,
            "overflow_y": null,
            "overflow_x": null,
            "grid_auto_flow": null,
            "grid_area": null,
            "grid_template_columns": null,
            "flex": null,
            "_model_name": "LayoutModel",
            "justify_items": null,
            "grid_row": null,
            "max_height": null,
            "align_content": null,
            "visibility": null,
            "align_self": null,
            "height": null,
            "min_height": null,
            "padding": null,
            "grid_auto_rows": null,
            "grid_gap": null,
            "max_width": null,
            "order": null,
            "_view_module_version": "1.2.0",
            "grid_template_areas": null,
            "object_position": null,
            "object_fit": null,
            "grid_auto_columns": null,
            "margin": null,
            "display": null,
            "left": null
          }
        },
        "7a424059b0e64aac8fa5e7c658a289a2": {
          "model_module": "@jupyter-widgets/controls",
          "model_name": "LabelModel",
          "state": {
            "_view_name": "LabelView",
            "style": "IPY_MODEL_e4a290a8a24d43929c66f95a9b26a56f",
            "_dom_classes": [],
            "description": "",
            "_model_name": "LabelModel",
            "placeholder": "​",
            "_view_module": "@jupyter-widgets/controls",
            "_model_module_version": "1.5.0",
            "value": " 20.08MB of 20.08MB uploaded (0.00MB deduped)\r",
            "_view_count": null,
            "_view_module_version": "1.5.0",
            "description_tooltip": null,
            "_model_module": "@jupyter-widgets/controls",
            "layout": "IPY_MODEL_925df77e828840b5bd2e069197167a40"
          }
        },
        "9b55e71682fa420bb5762d4e428e944e": {
          "model_module": "@jupyter-widgets/controls",
          "model_name": "FloatProgressModel",
          "state": {
            "_view_name": "ProgressView",
            "style": "IPY_MODEL_3e86f51c58db4285a470e93fea7a3a12",
            "_dom_classes": [],
            "description": "",
            "_model_name": "FloatProgressModel",
            "bar_style": "",
            "max": 1,
            "_view_module": "@jupyter-widgets/controls",
            "_model_module_version": "1.5.0",
            "value": 1,
            "_view_count": null,
            "_view_module_version": "1.5.0",
            "orientation": "horizontal",
            "min": 0,
            "description_tooltip": null,
            "_model_module": "@jupyter-widgets/controls",
            "layout": "IPY_MODEL_7cfddc0a058d49298f2710d4889006ba"
          }
        },
        "e4a290a8a24d43929c66f95a9b26a56f": {
          "model_module": "@jupyter-widgets/controls",
          "model_name": "DescriptionStyleModel",
          "state": {
            "_view_name": "StyleView",
            "_model_name": "DescriptionStyleModel",
            "description_width": "",
            "_view_module": "@jupyter-widgets/base",
            "_model_module_version": "1.5.0",
            "_view_count": null,
            "_view_module_version": "1.2.0",
            "_model_module": "@jupyter-widgets/controls"
          }
        },
        "925df77e828840b5bd2e069197167a40": {
          "model_module": "@jupyter-widgets/base",
          "model_name": "LayoutModel",
          "state": {
            "_view_name": "LayoutView",
            "grid_template_rows": null,
            "right": null,
            "justify_content": null,
            "_view_module": "@jupyter-widgets/base",
            "overflow": null,
            "_model_module_version": "1.2.0",
            "_view_count": null,
            "flex_flow": null,
            "width": null,
            "min_width": null,
            "border": null,
            "align_items": null,
            "bottom": null,
            "_model_module": "@jupyter-widgets/base",
            "top": null,
            "grid_column": null,
            "overflow_y": null,
            "overflow_x": null,
            "grid_auto_flow": null,
            "grid_area": null,
            "grid_template_columns": null,
            "flex": null,
            "_model_name": "LayoutModel",
            "justify_items": null,
            "grid_row": null,
            "max_height": null,
            "align_content": null,
            "visibility": null,
            "align_self": null,
            "height": null,
            "min_height": null,
            "padding": null,
            "grid_auto_rows": null,
            "grid_gap": null,
            "max_width": null,
            "order": null,
            "_view_module_version": "1.2.0",
            "grid_template_areas": null,
            "object_position": null,
            "object_fit": null,
            "grid_auto_columns": null,
            "margin": null,
            "display": null,
            "left": null
          }
        },
        "3e86f51c58db4285a470e93fea7a3a12": {
          "model_module": "@jupyter-widgets/controls",
          "model_name": "ProgressStyleModel",
          "state": {
            "_view_name": "StyleView",
            "_model_name": "ProgressStyleModel",
            "description_width": "",
            "_view_module": "@jupyter-widgets/base",
            "_model_module_version": "1.5.0",
            "_view_count": null,
            "_view_module_version": "1.2.0",
            "bar_color": null,
            "_model_module": "@jupyter-widgets/controls"
          }
        },
        "7cfddc0a058d49298f2710d4889006ba": {
          "model_module": "@jupyter-widgets/base",
          "model_name": "LayoutModel",
          "state": {
            "_view_name": "LayoutView",
            "grid_template_rows": null,
            "right": null,
            "justify_content": null,
            "_view_module": "@jupyter-widgets/base",
            "overflow": null,
            "_model_module_version": "1.2.0",
            "_view_count": null,
            "flex_flow": null,
            "width": null,
            "min_width": null,
            "border": null,
            "align_items": null,
            "bottom": null,
            "_model_module": "@jupyter-widgets/base",
            "top": null,
            "grid_column": null,
            "overflow_y": null,
            "overflow_x": null,
            "grid_auto_flow": null,
            "grid_area": null,
            "grid_template_columns": null,
            "flex": null,
            "_model_name": "LayoutModel",
            "justify_items": null,
            "grid_row": null,
            "max_height": null,
            "align_content": null,
            "visibility": null,
            "align_self": null,
            "height": null,
            "min_height": null,
            "padding": null,
            "grid_auto_rows": null,
            "grid_gap": null,
            "max_width": null,
            "order": null,
            "_view_module_version": "1.2.0",
            "grid_template_areas": null,
            "object_position": null,
            "object_fit": null,
            "grid_auto_columns": null,
            "margin": null,
            "display": null,
            "left": null
          }
        },
        "6b96381263a6440e83c153db0eda8e2b": {
          "model_module": "@jupyter-widgets/controls",
          "model_name": "VBoxModel",
          "state": {
            "_view_name": "VBoxView",
            "_dom_classes": [],
            "_model_name": "VBoxModel",
            "_view_module": "@jupyter-widgets/controls",
            "_model_module_version": "1.5.0",
            "_view_count": null,
            "_view_module_version": "1.5.0",
            "box_style": "",
            "layout": "IPY_MODEL_af6c9ca3a1d9473594a7dfb8472009a7",
            "_model_module": "@jupyter-widgets/controls",
            "children": [
              "IPY_MODEL_8776d063953f4abd86ebf7514b75d92b",
              "IPY_MODEL_da8921b9730042d1a6d902aa19fd2a3c"
            ]
          }
        },
        "af6c9ca3a1d9473594a7dfb8472009a7": {
          "model_module": "@jupyter-widgets/base",
          "model_name": "LayoutModel",
          "state": {
            "_view_name": "LayoutView",
            "grid_template_rows": null,
            "right": null,
            "justify_content": null,
            "_view_module": "@jupyter-widgets/base",
            "overflow": null,
            "_model_module_version": "1.2.0",
            "_view_count": null,
            "flex_flow": null,
            "width": null,
            "min_width": null,
            "border": null,
            "align_items": null,
            "bottom": null,
            "_model_module": "@jupyter-widgets/base",
            "top": null,
            "grid_column": null,
            "overflow_y": null,
            "overflow_x": null,
            "grid_auto_flow": null,
            "grid_area": null,
            "grid_template_columns": null,
            "flex": null,
            "_model_name": "LayoutModel",
            "justify_items": null,
            "grid_row": null,
            "max_height": null,
            "align_content": null,
            "visibility": null,
            "align_self": null,
            "height": null,
            "min_height": null,
            "padding": null,
            "grid_auto_rows": null,
            "grid_gap": null,
            "max_width": null,
            "order": null,
            "_view_module_version": "1.2.0",
            "grid_template_areas": null,
            "object_position": null,
            "object_fit": null,
            "grid_auto_columns": null,
            "margin": null,
            "display": null,
            "left": null
          }
        },
        "8776d063953f4abd86ebf7514b75d92b": {
          "model_module": "@jupyter-widgets/controls",
          "model_name": "LabelModel",
          "state": {
            "_view_name": "LabelView",
            "style": "IPY_MODEL_f9fe35cfc0314776a4a0408f0570089a",
            "_dom_classes": [],
            "description": "",
            "_model_name": "LabelModel",
            "placeholder": "​",
            "_view_module": "@jupyter-widgets/controls",
            "_model_module_version": "1.5.0",
            "value": " 18.02MB of 18.02MB uploaded (0.00MB deduped)\r",
            "_view_count": null,
            "_view_module_version": "1.5.0",
            "description_tooltip": null,
            "_model_module": "@jupyter-widgets/controls",
            "layout": "IPY_MODEL_152035b7482341109ffa136e1b09bb72"
          }
        },
        "da8921b9730042d1a6d902aa19fd2a3c": {
          "model_module": "@jupyter-widgets/controls",
          "model_name": "FloatProgressModel",
          "state": {
            "_view_name": "ProgressView",
            "style": "IPY_MODEL_e23490fe77b944529e0e83311ccdbc0c",
            "_dom_classes": [],
            "description": "",
            "_model_name": "FloatProgressModel",
            "bar_style": "",
            "max": 1,
            "_view_module": "@jupyter-widgets/controls",
            "_model_module_version": "1.5.0",
            "value": 1,
            "_view_count": null,
            "_view_module_version": "1.5.0",
            "orientation": "horizontal",
            "min": 0,
            "description_tooltip": null,
            "_model_module": "@jupyter-widgets/controls",
            "layout": "IPY_MODEL_0f708ec6a1044f2488e8f06b5b9dd46d"
          }
        },
        "f9fe35cfc0314776a4a0408f0570089a": {
          "model_module": "@jupyter-widgets/controls",
          "model_name": "DescriptionStyleModel",
          "state": {
            "_view_name": "StyleView",
            "_model_name": "DescriptionStyleModel",
            "description_width": "",
            "_view_module": "@jupyter-widgets/base",
            "_model_module_version": "1.5.0",
            "_view_count": null,
            "_view_module_version": "1.2.0",
            "_model_module": "@jupyter-widgets/controls"
          }
        },
        "152035b7482341109ffa136e1b09bb72": {
          "model_module": "@jupyter-widgets/base",
          "model_name": "LayoutModel",
          "state": {
            "_view_name": "LayoutView",
            "grid_template_rows": null,
            "right": null,
            "justify_content": null,
            "_view_module": "@jupyter-widgets/base",
            "overflow": null,
            "_model_module_version": "1.2.0",
            "_view_count": null,
            "flex_flow": null,
            "width": null,
            "min_width": null,
            "border": null,
            "align_items": null,
            "bottom": null,
            "_model_module": "@jupyter-widgets/base",
            "top": null,
            "grid_column": null,
            "overflow_y": null,
            "overflow_x": null,
            "grid_auto_flow": null,
            "grid_area": null,
            "grid_template_columns": null,
            "flex": null,
            "_model_name": "LayoutModel",
            "justify_items": null,
            "grid_row": null,
            "max_height": null,
            "align_content": null,
            "visibility": null,
            "align_self": null,
            "height": null,
            "min_height": null,
            "padding": null,
            "grid_auto_rows": null,
            "grid_gap": null,
            "max_width": null,
            "order": null,
            "_view_module_version": "1.2.0",
            "grid_template_areas": null,
            "object_position": null,
            "object_fit": null,
            "grid_auto_columns": null,
            "margin": null,
            "display": null,
            "left": null
          }
        },
        "e23490fe77b944529e0e83311ccdbc0c": {
          "model_module": "@jupyter-widgets/controls",
          "model_name": "ProgressStyleModel",
          "state": {
            "_view_name": "StyleView",
            "_model_name": "ProgressStyleModel",
            "description_width": "",
            "_view_module": "@jupyter-widgets/base",
            "_model_module_version": "1.5.0",
            "_view_count": null,
            "_view_module_version": "1.2.0",
            "bar_color": null,
            "_model_module": "@jupyter-widgets/controls"
          }
        },
        "0f708ec6a1044f2488e8f06b5b9dd46d": {
          "model_module": "@jupyter-widgets/base",
          "model_name": "LayoutModel",
          "state": {
            "_view_name": "LayoutView",
            "grid_template_rows": null,
            "right": null,
            "justify_content": null,
            "_view_module": "@jupyter-widgets/base",
            "overflow": null,
            "_model_module_version": "1.2.0",
            "_view_count": null,
            "flex_flow": null,
            "width": null,
            "min_width": null,
            "border": null,
            "align_items": null,
            "bottom": null,
            "_model_module": "@jupyter-widgets/base",
            "top": null,
            "grid_column": null,
            "overflow_y": null,
            "overflow_x": null,
            "grid_auto_flow": null,
            "grid_area": null,
            "grid_template_columns": null,
            "flex": null,
            "_model_name": "LayoutModel",
            "justify_items": null,
            "grid_row": null,
            "max_height": null,
            "align_content": null,
            "visibility": null,
            "align_self": null,
            "height": null,
            "min_height": null,
            "padding": null,
            "grid_auto_rows": null,
            "grid_gap": null,
            "max_width": null,
            "order": null,
            "_view_module_version": "1.2.0",
            "grid_template_areas": null,
            "object_position": null,
            "object_fit": null,
            "grid_auto_columns": null,
            "margin": null,
            "display": null,
            "left": null
          }
        },
        "694e62564c3d4c24a0cdfa40b03ab0cf": {
          "model_module": "@jupyter-widgets/controls",
          "model_name": "VBoxModel",
          "state": {
            "_view_name": "VBoxView",
            "_dom_classes": [],
            "_model_name": "VBoxModel",
            "_view_module": "@jupyter-widgets/controls",
            "_model_module_version": "1.5.0",
            "_view_count": null,
            "_view_module_version": "1.5.0",
            "box_style": "",
            "layout": "IPY_MODEL_ff220c7953d24387b126a2df2801ddd6",
            "_model_module": "@jupyter-widgets/controls",
            "children": [
              "IPY_MODEL_d9b27fd7696a4eb8825610e9ea80a764",
              "IPY_MODEL_5a42c319d9ee479faa33f147dc8f7e40"
            ]
          }
        },
        "ff220c7953d24387b126a2df2801ddd6": {
          "model_module": "@jupyter-widgets/base",
          "model_name": "LayoutModel",
          "state": {
            "_view_name": "LayoutView",
            "grid_template_rows": null,
            "right": null,
            "justify_content": null,
            "_view_module": "@jupyter-widgets/base",
            "overflow": null,
            "_model_module_version": "1.2.0",
            "_view_count": null,
            "flex_flow": null,
            "width": null,
            "min_width": null,
            "border": null,
            "align_items": null,
            "bottom": null,
            "_model_module": "@jupyter-widgets/base",
            "top": null,
            "grid_column": null,
            "overflow_y": null,
            "overflow_x": null,
            "grid_auto_flow": null,
            "grid_area": null,
            "grid_template_columns": null,
            "flex": null,
            "_model_name": "LayoutModel",
            "justify_items": null,
            "grid_row": null,
            "max_height": null,
            "align_content": null,
            "visibility": null,
            "align_self": null,
            "height": null,
            "min_height": null,
            "padding": null,
            "grid_auto_rows": null,
            "grid_gap": null,
            "max_width": null,
            "order": null,
            "_view_module_version": "1.2.0",
            "grid_template_areas": null,
            "object_position": null,
            "object_fit": null,
            "grid_auto_columns": null,
            "margin": null,
            "display": null,
            "left": null
          }
        },
        "d9b27fd7696a4eb8825610e9ea80a764": {
          "model_module": "@jupyter-widgets/controls",
          "model_name": "LabelModel",
          "state": {
            "_view_name": "LabelView",
            "style": "IPY_MODEL_2088b156a2c74224860e84482771b416",
            "_dom_classes": [],
            "description": "",
            "_model_name": "LabelModel",
            "placeholder": "​",
            "_view_module": "@jupyter-widgets/controls",
            "_model_module_version": "1.5.0",
            "value": " 18.71MB of 18.71MB uploaded (0.00MB deduped)\r",
            "_view_count": null,
            "_view_module_version": "1.5.0",
            "description_tooltip": null,
            "_model_module": "@jupyter-widgets/controls",
            "layout": "IPY_MODEL_ca0baef46fa64fe08b606a1542a63ad1"
          }
        },
        "5a42c319d9ee479faa33f147dc8f7e40": {
          "model_module": "@jupyter-widgets/controls",
          "model_name": "FloatProgressModel",
          "state": {
            "_view_name": "ProgressView",
            "style": "IPY_MODEL_07c2a6bb7841452885f41c1a27dd0781",
            "_dom_classes": [],
            "description": "",
            "_model_name": "FloatProgressModel",
            "bar_style": "",
            "max": 1,
            "_view_module": "@jupyter-widgets/controls",
            "_model_module_version": "1.5.0",
            "value": 1,
            "_view_count": null,
            "_view_module_version": "1.5.0",
            "orientation": "horizontal",
            "min": 0,
            "description_tooltip": null,
            "_model_module": "@jupyter-widgets/controls",
            "layout": "IPY_MODEL_56f7cf7ffce843d593304e7cc6ac8c86"
          }
        },
        "2088b156a2c74224860e84482771b416": {
          "model_module": "@jupyter-widgets/controls",
          "model_name": "DescriptionStyleModel",
          "state": {
            "_view_name": "StyleView",
            "_model_name": "DescriptionStyleModel",
            "description_width": "",
            "_view_module": "@jupyter-widgets/base",
            "_model_module_version": "1.5.0",
            "_view_count": null,
            "_view_module_version": "1.2.0",
            "_model_module": "@jupyter-widgets/controls"
          }
        },
        "ca0baef46fa64fe08b606a1542a63ad1": {
          "model_module": "@jupyter-widgets/base",
          "model_name": "LayoutModel",
          "state": {
            "_view_name": "LayoutView",
            "grid_template_rows": null,
            "right": null,
            "justify_content": null,
            "_view_module": "@jupyter-widgets/base",
            "overflow": null,
            "_model_module_version": "1.2.0",
            "_view_count": null,
            "flex_flow": null,
            "width": null,
            "min_width": null,
            "border": null,
            "align_items": null,
            "bottom": null,
            "_model_module": "@jupyter-widgets/base",
            "top": null,
            "grid_column": null,
            "overflow_y": null,
            "overflow_x": null,
            "grid_auto_flow": null,
            "grid_area": null,
            "grid_template_columns": null,
            "flex": null,
            "_model_name": "LayoutModel",
            "justify_items": null,
            "grid_row": null,
            "max_height": null,
            "align_content": null,
            "visibility": null,
            "align_self": null,
            "height": null,
            "min_height": null,
            "padding": null,
            "grid_auto_rows": null,
            "grid_gap": null,
            "max_width": null,
            "order": null,
            "_view_module_version": "1.2.0",
            "grid_template_areas": null,
            "object_position": null,
            "object_fit": null,
            "grid_auto_columns": null,
            "margin": null,
            "display": null,
            "left": null
          }
        },
        "07c2a6bb7841452885f41c1a27dd0781": {
          "model_module": "@jupyter-widgets/controls",
          "model_name": "ProgressStyleModel",
          "state": {
            "_view_name": "StyleView",
            "_model_name": "ProgressStyleModel",
            "description_width": "",
            "_view_module": "@jupyter-widgets/base",
            "_model_module_version": "1.5.0",
            "_view_count": null,
            "_view_module_version": "1.2.0",
            "bar_color": null,
            "_model_module": "@jupyter-widgets/controls"
          }
        },
        "56f7cf7ffce843d593304e7cc6ac8c86": {
          "model_module": "@jupyter-widgets/base",
          "model_name": "LayoutModel",
          "state": {
            "_view_name": "LayoutView",
            "grid_template_rows": null,
            "right": null,
            "justify_content": null,
            "_view_module": "@jupyter-widgets/base",
            "overflow": null,
            "_model_module_version": "1.2.0",
            "_view_count": null,
            "flex_flow": null,
            "width": null,
            "min_width": null,
            "border": null,
            "align_items": null,
            "bottom": null,
            "_model_module": "@jupyter-widgets/base",
            "top": null,
            "grid_column": null,
            "overflow_y": null,
            "overflow_x": null,
            "grid_auto_flow": null,
            "grid_area": null,
            "grid_template_columns": null,
            "flex": null,
            "_model_name": "LayoutModel",
            "justify_items": null,
            "grid_row": null,
            "max_height": null,
            "align_content": null,
            "visibility": null,
            "align_self": null,
            "height": null,
            "min_height": null,
            "padding": null,
            "grid_auto_rows": null,
            "grid_gap": null,
            "max_width": null,
            "order": null,
            "_view_module_version": "1.2.0",
            "grid_template_areas": null,
            "object_position": null,
            "object_fit": null,
            "grid_auto_columns": null,
            "margin": null,
            "display": null,
            "left": null
          }
        },
        "ee0b61cab918467296608265964e1429": {
          "model_module": "@jupyter-widgets/controls",
          "model_name": "VBoxModel",
          "state": {
            "_view_name": "VBoxView",
            "_dom_classes": [],
            "_model_name": "VBoxModel",
            "_view_module": "@jupyter-widgets/controls",
            "_model_module_version": "1.5.0",
            "_view_count": null,
            "_view_module_version": "1.5.0",
            "box_style": "",
            "layout": "IPY_MODEL_c2b983bb00ae4cbf8615b7cf562b1c93",
            "_model_module": "@jupyter-widgets/controls",
            "children": [
              "IPY_MODEL_2be5cc141d044db6bf9ab0e4b641ac1f",
              "IPY_MODEL_8d5346fc61c7449ba01732af4e384c69"
            ]
          }
        },
        "c2b983bb00ae4cbf8615b7cf562b1c93": {
          "model_module": "@jupyter-widgets/base",
          "model_name": "LayoutModel",
          "state": {
            "_view_name": "LayoutView",
            "grid_template_rows": null,
            "right": null,
            "justify_content": null,
            "_view_module": "@jupyter-widgets/base",
            "overflow": null,
            "_model_module_version": "1.2.0",
            "_view_count": null,
            "flex_flow": null,
            "width": null,
            "min_width": null,
            "border": null,
            "align_items": null,
            "bottom": null,
            "_model_module": "@jupyter-widgets/base",
            "top": null,
            "grid_column": null,
            "overflow_y": null,
            "overflow_x": null,
            "grid_auto_flow": null,
            "grid_area": null,
            "grid_template_columns": null,
            "flex": null,
            "_model_name": "LayoutModel",
            "justify_items": null,
            "grid_row": null,
            "max_height": null,
            "align_content": null,
            "visibility": null,
            "align_self": null,
            "height": null,
            "min_height": null,
            "padding": null,
            "grid_auto_rows": null,
            "grid_gap": null,
            "max_width": null,
            "order": null,
            "_view_module_version": "1.2.0",
            "grid_template_areas": null,
            "object_position": null,
            "object_fit": null,
            "grid_auto_columns": null,
            "margin": null,
            "display": null,
            "left": null
          }
        },
        "2be5cc141d044db6bf9ab0e4b641ac1f": {
          "model_module": "@jupyter-widgets/controls",
          "model_name": "LabelModel",
          "state": {
            "_view_name": "LabelView",
            "style": "IPY_MODEL_6c146867342944acae92f4c5828a51e3",
            "_dom_classes": [],
            "description": "",
            "_model_name": "LabelModel",
            "placeholder": "​",
            "_view_module": "@jupyter-widgets/controls",
            "_model_module_version": "1.5.0",
            "value": "Evaluated 320 of 372 examples",
            "_view_count": null,
            "_view_module_version": "1.5.0",
            "description_tooltip": null,
            "_model_module": "@jupyter-widgets/controls",
            "layout": "IPY_MODEL_a9edd51f4ad641938a1b1c1416c799a7"
          }
        },
        "8d5346fc61c7449ba01732af4e384c69": {
          "model_module": "@jupyter-widgets/controls",
          "model_name": "FloatProgressModel",
          "state": {
            "_view_name": "ProgressView",
            "style": "IPY_MODEL_aa3ae00781584dfd9dd703a7745e397c",
            "_dom_classes": [],
            "description": "",
            "_model_name": "FloatProgressModel",
            "bar_style": "",
            "max": 1,
            "_view_module": "@jupyter-widgets/controls",
            "_model_module_version": "1.5.0",
            "value": 0.8602150537634409,
            "_view_count": null,
            "_view_module_version": "1.5.0",
            "orientation": "horizontal",
            "min": 0,
            "description_tooltip": null,
            "_model_module": "@jupyter-widgets/controls",
            "layout": "IPY_MODEL_1eb6a5cb5cfa429db8be5392f3770e3b"
          }
        },
        "6c146867342944acae92f4c5828a51e3": {
          "model_module": "@jupyter-widgets/controls",
          "model_name": "DescriptionStyleModel",
          "state": {
            "_view_name": "StyleView",
            "_model_name": "DescriptionStyleModel",
            "description_width": "",
            "_view_module": "@jupyter-widgets/base",
            "_model_module_version": "1.5.0",
            "_view_count": null,
            "_view_module_version": "1.2.0",
            "_model_module": "@jupyter-widgets/controls"
          }
        },
        "a9edd51f4ad641938a1b1c1416c799a7": {
          "model_module": "@jupyter-widgets/base",
          "model_name": "LayoutModel",
          "state": {
            "_view_name": "LayoutView",
            "grid_template_rows": null,
            "right": null,
            "justify_content": null,
            "_view_module": "@jupyter-widgets/base",
            "overflow": null,
            "_model_module_version": "1.2.0",
            "_view_count": null,
            "flex_flow": null,
            "width": null,
            "min_width": null,
            "border": null,
            "align_items": null,
            "bottom": null,
            "_model_module": "@jupyter-widgets/base",
            "top": null,
            "grid_column": null,
            "overflow_y": null,
            "overflow_x": null,
            "grid_auto_flow": null,
            "grid_area": null,
            "grid_template_columns": null,
            "flex": null,
            "_model_name": "LayoutModel",
            "justify_items": null,
            "grid_row": null,
            "max_height": null,
            "align_content": null,
            "visibility": null,
            "align_self": null,
            "height": null,
            "min_height": null,
            "padding": null,
            "grid_auto_rows": null,
            "grid_gap": null,
            "max_width": null,
            "order": null,
            "_view_module_version": "1.2.0",
            "grid_template_areas": null,
            "object_position": null,
            "object_fit": null,
            "grid_auto_columns": null,
            "margin": null,
            "display": null,
            "left": null
          }
        },
        "aa3ae00781584dfd9dd703a7745e397c": {
          "model_module": "@jupyter-widgets/controls",
          "model_name": "ProgressStyleModel",
          "state": {
            "_view_name": "StyleView",
            "_model_name": "ProgressStyleModel",
            "description_width": "",
            "_view_module": "@jupyter-widgets/base",
            "_model_module_version": "1.5.0",
            "_view_count": null,
            "_view_module_version": "1.2.0",
            "bar_color": null,
            "_model_module": "@jupyter-widgets/controls"
          }
        },
        "1eb6a5cb5cfa429db8be5392f3770e3b": {
          "model_module": "@jupyter-widgets/base",
          "model_name": "LayoutModel",
          "state": {
            "_view_name": "LayoutView",
            "grid_template_rows": null,
            "right": null,
            "justify_content": null,
            "_view_module": "@jupyter-widgets/base",
            "overflow": null,
            "_model_module_version": "1.2.0",
            "_view_count": null,
            "flex_flow": null,
            "width": null,
            "min_width": null,
            "border": null,
            "align_items": null,
            "bottom": null,
            "_model_module": "@jupyter-widgets/base",
            "top": null,
            "grid_column": null,
            "overflow_y": null,
            "overflow_x": null,
            "grid_auto_flow": null,
            "grid_area": null,
            "grid_template_columns": null,
            "flex": null,
            "_model_name": "LayoutModel",
            "justify_items": null,
            "grid_row": null,
            "max_height": null,
            "align_content": null,
            "visibility": null,
            "align_self": null,
            "height": null,
            "min_height": null,
            "padding": null,
            "grid_auto_rows": null,
            "grid_gap": null,
            "max_width": null,
            "order": null,
            "_view_module_version": "1.2.0",
            "grid_template_areas": null,
            "object_position": null,
            "object_fit": null,
            "grid_auto_columns": null,
            "margin": null,
            "display": null,
            "left": null
          }
        },
        "44d270bac18a4197941377ce47344d8f": {
          "model_module": "@jupyter-widgets/controls",
          "model_name": "VBoxModel",
          "state": {
            "_view_name": "VBoxView",
            "_dom_classes": [],
            "_model_name": "VBoxModel",
            "_view_module": "@jupyter-widgets/controls",
            "_model_module_version": "1.5.0",
            "_view_count": null,
            "_view_module_version": "1.5.0",
            "box_style": "",
            "layout": "IPY_MODEL_5ad6d39410854beb8b1ea4c66eae4a6c",
            "_model_module": "@jupyter-widgets/controls",
            "children": [
              "IPY_MODEL_fc8f1994831447dfbe1b0b93cbc621c5",
              "IPY_MODEL_addfc5f4a42243cbbf3b77cc9b8f92a6"
            ]
          }
        },
        "5ad6d39410854beb8b1ea4c66eae4a6c": {
          "model_module": "@jupyter-widgets/base",
          "model_name": "LayoutModel",
          "state": {
            "_view_name": "LayoutView",
            "grid_template_rows": null,
            "right": null,
            "justify_content": null,
            "_view_module": "@jupyter-widgets/base",
            "overflow": null,
            "_model_module_version": "1.2.0",
            "_view_count": null,
            "flex_flow": null,
            "width": null,
            "min_width": null,
            "border": null,
            "align_items": null,
            "bottom": null,
            "_model_module": "@jupyter-widgets/base",
            "top": null,
            "grid_column": null,
            "overflow_y": null,
            "overflow_x": null,
            "grid_auto_flow": null,
            "grid_area": null,
            "grid_template_columns": null,
            "flex": null,
            "_model_name": "LayoutModel",
            "justify_items": null,
            "grid_row": null,
            "max_height": null,
            "align_content": null,
            "visibility": null,
            "align_self": null,
            "height": null,
            "min_height": null,
            "padding": null,
            "grid_auto_rows": null,
            "grid_gap": null,
            "max_width": null,
            "order": null,
            "_view_module_version": "1.2.0",
            "grid_template_areas": null,
            "object_position": null,
            "object_fit": null,
            "grid_auto_columns": null,
            "margin": null,
            "display": null,
            "left": null
          }
        },
        "fc8f1994831447dfbe1b0b93cbc621c5": {
          "model_module": "@jupyter-widgets/controls",
          "model_name": "LabelModel",
          "state": {
            "_view_name": "LabelView",
            "style": "IPY_MODEL_ff3d897e62794cc5a0aaf26e8065f9b9",
            "_dom_classes": [],
            "description": "",
            "_model_name": "LabelModel",
            "placeholder": "​",
            "_view_module": "@jupyter-widgets/controls",
            "_model_module_version": "1.5.0",
            "value": " 11.24MB of 11.24MB uploaded (0.00MB deduped)\r",
            "_view_count": null,
            "_view_module_version": "1.5.0",
            "description_tooltip": null,
            "_model_module": "@jupyter-widgets/controls",
            "layout": "IPY_MODEL_0aef1cecd10d4e308d127a44a58496ff"
          }
        },
        "addfc5f4a42243cbbf3b77cc9b8f92a6": {
          "model_module": "@jupyter-widgets/controls",
          "model_name": "FloatProgressModel",
          "state": {
            "_view_name": "ProgressView",
            "style": "IPY_MODEL_bdb04dca93794c9b8440ad7592ba506c",
            "_dom_classes": [],
            "description": "",
            "_model_name": "FloatProgressModel",
            "bar_style": "",
            "max": 1,
            "_view_module": "@jupyter-widgets/controls",
            "_model_module_version": "1.5.0",
            "value": 1,
            "_view_count": null,
            "_view_module_version": "1.5.0",
            "orientation": "horizontal",
            "min": 0,
            "description_tooltip": null,
            "_model_module": "@jupyter-widgets/controls",
            "layout": "IPY_MODEL_4eb3069ea6944d238954d2a45f47635e"
          }
        },
        "ff3d897e62794cc5a0aaf26e8065f9b9": {
          "model_module": "@jupyter-widgets/controls",
          "model_name": "DescriptionStyleModel",
          "state": {
            "_view_name": "StyleView",
            "_model_name": "DescriptionStyleModel",
            "description_width": "",
            "_view_module": "@jupyter-widgets/base",
            "_model_module_version": "1.5.0",
            "_view_count": null,
            "_view_module_version": "1.2.0",
            "_model_module": "@jupyter-widgets/controls"
          }
        },
        "0aef1cecd10d4e308d127a44a58496ff": {
          "model_module": "@jupyter-widgets/base",
          "model_name": "LayoutModel",
          "state": {
            "_view_name": "LayoutView",
            "grid_template_rows": null,
            "right": null,
            "justify_content": null,
            "_view_module": "@jupyter-widgets/base",
            "overflow": null,
            "_model_module_version": "1.2.0",
            "_view_count": null,
            "flex_flow": null,
            "width": null,
            "min_width": null,
            "border": null,
            "align_items": null,
            "bottom": null,
            "_model_module": "@jupyter-widgets/base",
            "top": null,
            "grid_column": null,
            "overflow_y": null,
            "overflow_x": null,
            "grid_auto_flow": null,
            "grid_area": null,
            "grid_template_columns": null,
            "flex": null,
            "_model_name": "LayoutModel",
            "justify_items": null,
            "grid_row": null,
            "max_height": null,
            "align_content": null,
            "visibility": null,
            "align_self": null,
            "height": null,
            "min_height": null,
            "padding": null,
            "grid_auto_rows": null,
            "grid_gap": null,
            "max_width": null,
            "order": null,
            "_view_module_version": "1.2.0",
            "grid_template_areas": null,
            "object_position": null,
            "object_fit": null,
            "grid_auto_columns": null,
            "margin": null,
            "display": null,
            "left": null
          }
        },
        "bdb04dca93794c9b8440ad7592ba506c": {
          "model_module": "@jupyter-widgets/controls",
          "model_name": "ProgressStyleModel",
          "state": {
            "_view_name": "StyleView",
            "_model_name": "ProgressStyleModel",
            "description_width": "",
            "_view_module": "@jupyter-widgets/base",
            "_model_module_version": "1.5.0",
            "_view_count": null,
            "_view_module_version": "1.2.0",
            "bar_color": null,
            "_model_module": "@jupyter-widgets/controls"
          }
        },
        "4eb3069ea6944d238954d2a45f47635e": {
          "model_module": "@jupyter-widgets/base",
          "model_name": "LayoutModel",
          "state": {
            "_view_name": "LayoutView",
            "grid_template_rows": null,
            "right": null,
            "justify_content": null,
            "_view_module": "@jupyter-widgets/base",
            "overflow": null,
            "_model_module_version": "1.2.0",
            "_view_count": null,
            "flex_flow": null,
            "width": null,
            "min_width": null,
            "border": null,
            "align_items": null,
            "bottom": null,
            "_model_module": "@jupyter-widgets/base",
            "top": null,
            "grid_column": null,
            "overflow_y": null,
            "overflow_x": null,
            "grid_auto_flow": null,
            "grid_area": null,
            "grid_template_columns": null,
            "flex": null,
            "_model_name": "LayoutModel",
            "justify_items": null,
            "grid_row": null,
            "max_height": null,
            "align_content": null,
            "visibility": null,
            "align_self": null,
            "height": null,
            "min_height": null,
            "padding": null,
            "grid_auto_rows": null,
            "grid_gap": null,
            "max_width": null,
            "order": null,
            "_view_module_version": "1.2.0",
            "grid_template_areas": null,
            "object_position": null,
            "object_fit": null,
            "grid_auto_columns": null,
            "margin": null,
            "display": null,
            "left": null
          }
        }
      }
    }
  },
  "cells": [
    {
      "cell_type": "markdown",
      "metadata": {
        "id": "view-in-github",
        "colab_type": "text"
      },
      "source": [
        "<a href=\"https://colab.research.google.com/github/anyaconda/myAroundML/blob/main/my_wandb_DL_FundamentalsWithW%26B.ipynb\" target=\"_parent\"><img src=\"https://colab.research.google.com/assets/colab-badge.svg\" alt=\"Open In Colab\"/></a>"
      ]
    },
    {
      "cell_type": "markdown",
      "metadata": {
        "id": "XkI3EG0J4HBw"
      },
      "source": [
        "# 🪨📄✂️ Shoot!\n",
        "\n",
        "In this notebook we'll go over some of the common mistakes that I've encountered as I learned how to train deep learning models.  We'll begin manually tweeking hyper-parameters, then we'll run a sweep, finally we'll evaluate some of the models we've created.  More examples and detailed documentation are available on our [documentation site](https://docs.wandb.com).\n",
        "\n",
        "To get started we need to [signup or login](https://wandb.ai/login) to W&B and install the library."
      ]
    },
    {
      "cell_type": "code",
      "metadata": {
        "id": "STza1eiw374V"
      },
      "source": [
        "!pip install -qq wandb"
      ],
      "execution_count": 1,
      "outputs": []
    },
    {
      "cell_type": "code",
      "metadata": {
        "id": "iZRQDWJj4aki"
      },
      "source": [
        "import numpy as np\n",
        "import tensorflow as tf\n",
        "import tensorflow_datasets as tfds\n",
        "import matplotlib.pyplot as plt\n",
        "import wandb\n",
        "import os\n",
        "from IPython.display import clear_output \n",
        "os.environ[\"WANDB_ENTITY\"] = \"anya\""
      ],
      "execution_count": 2,
      "outputs": []
    },
    {
      "cell_type": "markdown",
      "metadata": {
        "id": "vULnKkoianyZ"
      },
      "source": [
        "## 0. Load data\n",
        "We're loading our 🪨📄✂️ dataset from [tensorflow datasets](https://www.tensorflow.org/datasets/catalog/overview).  There are lots of great datasets you can experiment with here."
      ]
    },
    {
      "cell_type": "code",
      "metadata": {
        "colab": {
          "base_uri": "https://localhost:8080/",
          "height": 365
        },
        "id": "zK5f3RBr4oR0",
        "outputId": "90501551-00a1-43e1-cd04-b0af1bc3355e"
      },
      "source": [
        "ds, info = tfds.load(name=\"rock_paper_scissors\", with_info=True)\n",
        "NUM_CLASSES = 3\n",
        "clear_output()\n",
        "\n",
        "get_name = lambda idx: info.features['label'].int2str(idx).split(\"-\")[-1].replace(\"_\", \" \")\n",
        "get_id = lambda tensor: tensor.numpy().decode('utf-8').split(\"/\")[-1]\n",
        "\n",
        "fig = tfds.show_examples(ds['train'], info, cols=4, rows=2)"
      ],
      "execution_count": 3,
      "outputs": [
        {
          "output_type": "display_data",
          "data": {
            "image/png": "[encoded data removed]",
            "text/plain": [
              "<Figure size 864x432 with 8 Axes>"
            ]
          },
          "metadata": {
            "tags": []
          }
        }
      ]
    },
    {
      "cell_type": "markdown",
      "metadata": {
        "id": "EikECWs4bFnF"
      },
      "source": [
        "## 1. Prep Data\n",
        "We define a few utility functions for preprocessing our data below.  We'll modify these as we iterate on our model."
      ]
    },
    {
      "cell_type": "code",
      "metadata": {
        "id": "8Jekzatv5NA7"
      },
      "source": [
        "IMG_LEN = 224\n",
        "IMG_SHAPE = (IMG_LEN,IMG_LEN,3)\n",
        "\n",
        "# Let's use a metric to capture the distribution of the input data\n",
        "mean_input = tf.keras.metrics.MeanTensor()\n",
        "def log_distribution(epoch, logs):\n",
        "  \"\"\"Log the input distribution on the first epoch\"\"\"\n",
        "  if epoch == 0:\n",
        "    wandb.log({\"inputs\": wandb.Histogram(mean_input.result().numpy())}, commit=False)\n",
        "custom_callback = tf.keras.callbacks.LambdaCallback(on_epoch_end=log_distribution)\n",
        "\n",
        "def preprocess(ds_row):\n",
        "  \"\"\"Preprocess our image data\"\"\"\n",
        "  image = ds_row['image']\n",
        "  image = tf.image.resize(image, (IMG_LEN, IMG_LEN), method='nearest')\n",
        "  image = tf.image.random_brightness(image, 0.3)\n",
        "  image = tf.image.convert_image_dtype(image, dtype=tf.float32)\n",
        "  image = tf.image.random_flip_left_right(image)\n",
        "  mean_input.update_state(image)\n",
        "  # One hot encoding labels\n",
        "  label = tf.one_hot(ds_row['label'],NUM_CLASSES)\n",
        "\n",
        "  return image, label\n",
        "\n",
        "def prepare(dataset, batch_size=None, x=4):\n",
        "  \"\"\"Preprocess, shuffle and optionally batch the data\"\"\"\n",
        "  ds = dataset.map(preprocess, num_parallel_calls=x)\n",
        "  ds = ds.shuffle(buffer_size=100)\n",
        "  if batch_size:\n",
        "    ds = ds.batch(batch_size)\n",
        "  ds = ds.prefetch(buffer_size=tf.data.experimental.AUTOTUNE)\n",
        "  return ds"
      ],
      "execution_count": 13,
      "outputs": []
    },
    {
      "cell_type": "markdown",
      "metadata": {
        "id": "pBWYVCYJcykO"
      },
      "source": [
        "## 2. Model \n",
        "We build our model in a function so that we can easily sweep over different model configurations."
      ]
    },
    {
      "cell_type": "code",
      "metadata": {
        "id": "etKAaXJg7dFm"
      },
      "source": [
        "def build_model(model=\"MobileNetV2\", hidden_nodes=32, dropout=0.4):\n",
        "  \"\"\"Returns a keras model based on various combiniations of hyper-parameters\"\"\"\n",
        "  Model = getattr(tf.keras.applications, model) #EfficientNetB0, etc. https://keras.io/api/applications\n",
        "  base_model = Model(input_shape=IMG_SHAPE,\n",
        "                    include_top=False,\n",
        "                    pooling='average',\n",
        "                    weights='imagenet')\n",
        "  base_model.trainable = False\n",
        "\n",
        "  return tf.keras.Sequential([\n",
        "    base_model,\n",
        "    tf.keras.layers.Flatten(),\n",
        "    tf.keras.layers.Dropout(dropout),\n",
        "    tf.keras.layers.Dense(hidden_nodes, activation='relu'),\n",
        "    tf.keras.layers.Dropout(dropout),\n",
        "    tf.keras.layers.Dense(NUM_CLASSES, activation='softmax')\n",
        "  ])"
      ],
      "execution_count": 14,
      "outputs": []
    },
    {
      "cell_type": "markdown",
      "metadata": {
        "id": "6B58P8fy8WII"
      },
      "source": [
        "Here we define our primary training function.  Notice we're calling wandb.init to log the experiment and it's hyper-parameters to W&B.  We also added the WandbCallback."
      ]
    },
    {
      "cell_type": "code",
      "metadata": {
        "id": "0o-VNzyb7shc"
      },
      "source": [
        "cfg_defaults={\n",
        "  \"lr\": 0.00030, \n",
        "  \"batch_size\": 64,\n",
        "  \"epochs\": 5,\n",
        "  \"dropout\": 0.4,\n",
        "  \"model\": \"MobileNetV2\",\n",
        "  \"hidden_nodes\": 16 #32\n",
        "}\n",
        "def train():\n",
        "  with wandb.init(project=\"my-shoot\", config=cfg_defaults) as run:\n",
        "    mean_input.reset_states()\n",
        "    model = build_model(run.config.model, run.config.hidden_nodes, run.config.dropout)\n",
        "    model.compile(optimizer=tf.keras.optimizers.Adamax(run.config.lr),\n",
        "                  loss='categorical_crossentropy', metrics=['accuracy'])\n",
        "    run.config.update({\"total_params\": model.count_params()})\n",
        "            \n",
        "    train_batches = prepare(ds['train'], batch_size=run.config.batch_size)\n",
        "    test_batches = prepare(ds['test'], batch_size=run.config.batch_size)\n",
        "    wandb_callback = wandb.keras.WandbCallback(data_type=\"image\", validation_data=test_batches, labels=[\"Rock\", \"Paper\", \"Scissors\"])\n",
        "    history = model.fit(train_batches, epochs=run.config.epochs,\n",
        "                        validation_data=test_batches, callbacks=[custom_callback, wandb_callback])"
      ],
      "execution_count": 17,
      "outputs": []
    },
    {
      "cell_type": "markdown",
      "metadata": {
        "id": "HsNQbfqmbhdv"
      },
      "source": [
        "### 2.1 Train\n",
        "Let's actually train our first model."
      ]
    },
    {
      "cell_type": "code",
      "metadata": {
        "colab": {
          "base_uri": "https://localhost:8080/",
          "height": 939,
          "referenced_widgets": [
            "07cf3ab3f1514f7bbb63416af05ea8fa",
            "b25c7d3dd57348e0a7a3ad80c19b3e94",
            "13ccbacde7a34f47877121406ddc7df6",
            "f6d7b9aeaad64588bdf593a7c7127aa2",
            "c91f970f9e1d4d6aa4584312b3296340",
            "b6a55ba980304445a2120bf465672a33",
            "d518537cb7554ff7b8823e87748b3a80",
            "ba5f2058feea4a2ba666b10c9c1a6783"
          ]
        },
        "id": "r85B6H9F8OGI",
        "outputId": "b534abf3-fa6b-453e-9639-ac9e2e84a8aa"
      },
      "source": [
        "train()"
      ],
      "execution_count": 18,
      "outputs": [
        {
          "output_type": "display_data",
          "data": {
            "text/html": [
              "\n",
              "                Tracking run with wandb version 0.10.18<br/>\n",
              "                Syncing run <strong style=\"color:#cdcd00\">olive-sound-5</strong> to <a href=\"https://wandb.ai\" target=\"_blank\">Weights & Biases</a> <a href=\"https://docs.wandb.com/integrations/jupyter.html\" target=\"_blank\">(Documentation)</a>.<br/>\n",
              "                Project page: <a href=\"https://wandb.ai/anya/my-shoot\" target=\"_blank\">https://wandb.ai/anya/my-shoot</a><br/>\n",
              "                Run page: <a href=\"https://wandb.ai/anya/my-shoot/runs/3t2cras7\" target=\"_blank\">https://wandb.ai/anya/my-shoot/runs/3t2cras7</a><br/>\n",
              "                Run data is saved locally in <code>/content/wandb/run-20210213_022315-3t2cras7</code><br/><br/>\n",
              "            "
            ],
            "text/plain": [
              "<IPython.core.display.HTML object>"
            ]
          },
          "metadata": {
            "tags": []
          }
        },
        {
          "output_type": "stream",
          "text": [
            "Epoch 1/5\n",
            "40/40 [==============================] - 18s 376ms/step - loss: 0.8869 - accuracy: 0.7090 - val_loss: 0.2035 - val_accuracy: 0.9032\n",
            "Epoch 2/5\n",
            "40/40 [==============================] - 15s 366ms/step - loss: 0.1369 - accuracy: 0.9446 - val_loss: 0.1684 - val_accuracy: 0.9301\n",
            "Epoch 3/5\n",
            "40/40 [==============================] - 15s 362ms/step - loss: 0.1132 - accuracy: 0.9561 - val_loss: 0.1522 - val_accuracy: 0.9382\n",
            "Epoch 4/5\n",
            "40/40 [==============================] - 15s 364ms/step - loss: 0.1001 - accuracy: 0.9629 - val_loss: 0.1603 - val_accuracy: 0.9328\n",
            "Epoch 5/5\n",
            "40/40 [==============================] - 15s 359ms/step - loss: 0.0824 - accuracy: 0.9698 - val_loss: 0.1153 - val_accuracy: 0.9570\n"
          ],
          "name": "stdout"
        },
        {
          "output_type": "display_data",
          "data": {
            "text/html": [
              "<br/>Waiting for W&B process to finish, PID 9994<br/>Program ended successfully."
            ],
            "text/plain": [
              "<IPython.core.display.HTML object>"
            ]
          },
          "metadata": {
            "tags": []
          }
        },
        {
          "output_type": "display_data",
          "data": {
            "application/vnd.jupyter.widget-view+json": {
              "model_id": "07cf3ab3f1514f7bbb63416af05ea8fa",
              "version_minor": 0,
              "version_major": 2
            },
            "text/plain": [
              "VBox(children=(Label(value=' 25.72MB of 25.72MB uploaded (0.00MB deduped)\\r'), FloatProgress(value=1.0, max=1.…"
            ]
          },
          "metadata": {
            "tags": []
          }
        },
        {
          "output_type": "display_data",
          "data": {
            "text/html": [
              "Find user logs for this run at: <code>/content/wandb/run-20210213_022315-3t2cras7/logs/debug.log</code>"
            ],
            "text/plain": [
              "<IPython.core.display.HTML object>"
            ]
          },
          "metadata": {
            "tags": []
          }
        },
        {
          "output_type": "display_data",
          "data": {
            "text/html": [
              "Find internal logs for this run at: <code>/content/wandb/run-20210213_022315-3t2cras7/logs/debug-internal.log</code>"
            ],
            "text/plain": [
              "<IPython.core.display.HTML object>"
            ]
          },
          "metadata": {
            "tags": []
          }
        },
        {
          "output_type": "display_data",
          "data": {
            "text/html": [
              "<h3>Run summary:</h3><br/><style>\n",
              "    table.wandb td:nth-child(1) { padding: 0 10px; text-align: right }\n",
              "    </style><table class=\"wandb\">\n",
              "<tr><td>epoch</td><td>4</td></tr><tr><td>loss</td><td>0.08886</td></tr><tr><td>accuracy</td><td>0.96548</td></tr><tr><td>val_loss</td><td>0.11529</td></tr><tr><td>val_accuracy</td><td>0.95699</td></tr><tr><td>_runtime</td><td>89</td></tr><tr><td>_timestamp</td><td>1613183084</td></tr><tr><td>_step</td><td>4</td></tr><tr><td>best_val_loss</td><td>0.11529</td></tr><tr><td>best_epoch</td><td>4</td></tr></table>"
            ],
            "text/plain": [
              "<IPython.core.display.HTML object>"
            ]
          },
          "metadata": {
            "tags": []
          }
        },
        {
          "output_type": "display_data",
          "data": {
            "text/html": [
              "<h3>Run history:</h3><br/><style>\n",
              "    table.wandb td:nth-child(1) { padding: 0 10px; text-align: right }\n",
              "    </style><table class=\"wandb\">\n",
              "<tr><td>epoch</td><td>▁▃▅▆█</td></tr><tr><td>loss</td><td>█▂▁▁▁</td></tr><tr><td>accuracy</td><td>▁▇▇██</td></tr><tr><td>val_loss</td><td>█▅▄▅▁</td></tr><tr><td>val_accuracy</td><td>▁▅▆▅█</td></tr><tr><td>_runtime</td><td>▁▃▅▆█</td></tr><tr><td>_timestamp</td><td>▁▃▅▆█</td></tr><tr><td>_step</td><td>▁▃▅▆█</td></tr></table><br/>"
            ],
            "text/plain": [
              "<IPython.core.display.HTML object>"
            ]
          },
          "metadata": {
            "tags": []
          }
        },
        {
          "output_type": "display_data",
          "data": {
            "text/html": [
              "Synced 5 W&B file(s), 181 media file(s), 0 artifact file(s) and 2 other file(s)"
            ],
            "text/plain": [
              "<IPython.core.display.HTML object>"
            ]
          },
          "metadata": {
            "tags": []
          }
        },
        {
          "output_type": "display_data",
          "data": {
            "text/html": [
              "\n",
              "                    <br/>Synced <strong style=\"color:#cdcd00\">olive-sound-5</strong>: <a href=\"https://wandb.ai/anya/my-shoot/runs/3t2cras7\" target=\"_blank\">https://wandb.ai/anya/my-shoot/runs/3t2cras7</a><br/>\n",
              "                "
            ],
            "text/plain": [
              "<IPython.core.display.HTML object>"
            ]
          },
          "metadata": {
            "tags": []
          }
        }
      ]
    },
    {
      "cell_type": "markdown",
      "metadata": {
        "id": "z218zl6cbm3J"
      },
      "source": [
        "### 2.2 Sweeps for Hyperparamter tuning \n",
        "We can explore some different combinations of hyper-parameters using [W&B Sweeps](https://docs.wandb.ai/sweeps).  First let's go create a sweep in the UI and use the identifier below."
      ]
    },
    {
      "cell_type": "code",
      "metadata": {
        "id": "yJMl8cEE8_bl",
        "colab": {
          "base_uri": "https://localhost:8080/",
          "height": 1000,
          "referenced_widgets": [
            "bf7d10995ff0419d9fbc92f021f57492",
            "c52653da78ba4ac5bb762ff5f3cac47b",
            "b1aa1a7fe60648148f5e938cfe8dcd1f",
            "cd5cac008b2d4711b01a627af1c9cfbc",
            "538079d3f5194b43b16789853078b13f",
            "d2f0105f9a4b4de88ec05f17e516db85",
            "b3fca47feb094e1ab26f14404b4ae0de",
            "fc3862e45c8140d8a2060ab2e9ec5fc9",
            "f18f35e63fc643159ded59dc4f7c4e65",
            "1f54f43daf2646d1998462c0cde3f057",
            "bb9f542eeef8464484078738a3a9067d",
            "cfe0b3e6413849139c6ae30787188d1e",
            "76ff4f6bb6b7405ea8ea88204dccea2c",
            "41d81970ef0a47bf8d796ba1bd152bf2",
            "9e9d089cb28f4c15914055d4ca30421c",
            "710e32eca628462d8408f9ee50998dc3",
            "9b28476e79554f7aadd65d0d0b0d739d",
            "0e2dfee0907f454a9b690e61acab14ba",
            "7a424059b0e64aac8fa5e7c658a289a2",
            "9b55e71682fa420bb5762d4e428e944e",
            "e4a290a8a24d43929c66f95a9b26a56f",
            "925df77e828840b5bd2e069197167a40",
            "3e86f51c58db4285a470e93fea7a3a12",
            "7cfddc0a058d49298f2710d4889006ba",
            "6b96381263a6440e83c153db0eda8e2b",
            "af6c9ca3a1d9473594a7dfb8472009a7",
            "8776d063953f4abd86ebf7514b75d92b",
            "da8921b9730042d1a6d902aa19fd2a3c",
            "f9fe35cfc0314776a4a0408f0570089a",
            "152035b7482341109ffa136e1b09bb72",
            "e23490fe77b944529e0e83311ccdbc0c",
            "0f708ec6a1044f2488e8f06b5b9dd46d",
            "694e62564c3d4c24a0cdfa40b03ab0cf",
            "ff220c7953d24387b126a2df2801ddd6",
            "d9b27fd7696a4eb8825610e9ea80a764",
            "5a42c319d9ee479faa33f147dc8f7e40",
            "2088b156a2c74224860e84482771b416",
            "ca0baef46fa64fe08b606a1542a63ad1",
            "07c2a6bb7841452885f41c1a27dd0781",
            "56f7cf7ffce843d593304e7cc6ac8c86"
          ]
        },
        "outputId": "fdc8b4e0-0576-430e-8981-3910a7b4e57f"
      },
      "source": [
        "#wandb agent anya/my-shoot/71k67290\n",
        "SWEEP_ID=\"anya/my-shoot/71k67290\"\n",
        "wandb.agent(SWEEP_ID, function=train, count=5)"
      ],
      "execution_count": 21,
      "outputs": [
        {
          "output_type": "stream",
          "text": [
            "\u001b[34m\u001b[1mwandb\u001b[0m: Agent Starting Run: exfjk4o8 with config:\n",
            "\u001b[34m\u001b[1mwandb\u001b[0m: \thidden_nodes: 14\n",
            "\u001b[34m\u001b[1mwandb\u001b[0m: \tlr: 0.00046621551711578495\n",
            "\u001b[34m\u001b[1mwandb\u001b[0m: \u001b[33mWARNING\u001b[0m Ignored wandb.init() arg project when running a sweep\n"
          ],
          "name": "stderr"
        },
        {
          "output_type": "display_data",
          "data": {
            "text/html": [
              "\n",
              "                Tracking run with wandb version 0.10.18<br/>\n",
              "                Syncing run <strong style=\"color:#cdcd00\">ethereal-sweep-1</strong> to <a href=\"https://wandb.ai\" target=\"_blank\">Weights & Biases</a> <a href=\"https://docs.wandb.com/integrations/jupyter.html\" target=\"_blank\">(Documentation)</a>.<br/>\n",
              "                Project page: <a href=\"https://wandb.ai/anya/my-shoot\" target=\"_blank\">https://wandb.ai/anya/my-shoot</a><br/>\n",
              "                Sweep page: <a href=\"https://wandb.ai/anya/my-shoot/sweeps/71k67290\" target=\"_blank\">https://wandb.ai/anya/my-shoot/sweeps/71k67290</a><br/>\n",
              "Run page: <a href=\"https://wandb.ai/anya/my-shoot/runs/exfjk4o8\" target=\"_blank\">https://wandb.ai/anya/my-shoot/runs/exfjk4o8</a><br/>\n",
              "                Run data is saved locally in <code>/content/wandb/run-20210213_031316-exfjk4o8</code><br/><br/>\n",
              "            "
            ],
            "text/plain": [
              "<IPython.core.display.HTML object>"
            ]
          },
          "metadata": {
            "tags": []
          }
        },
        {
          "output_type": "stream",
          "text": [
            "Epoch 1/5\n",
            "40/40 [==============================] - 20s 416ms/step - loss: 1.2402 - accuracy: 0.4624 - val_loss: 0.5806 - val_accuracy: 0.8038\n",
            "Epoch 2/5\n",
            "40/40 [==============================] - 16s 396ms/step - loss: 0.5486 - accuracy: 0.6547 - val_loss: 0.5139 - val_accuracy: 0.8414\n",
            "Epoch 3/5\n",
            "40/40 [==============================] - 16s 392ms/step - loss: 0.5032 - accuracy: 0.6707 - val_loss: 0.5972 - val_accuracy: 0.8575\n",
            "Epoch 4/5\n",
            "40/40 [==============================] - 17s 395ms/step - loss: 0.4530 - accuracy: 0.6876 - val_loss: 0.6724 - val_accuracy: 0.8065\n",
            "Epoch 5/5\n",
            "40/40 [==============================] - 17s 386ms/step - loss: 0.4364 - accuracy: 0.6842 - val_loss: 0.5841 - val_accuracy: 0.8737\n"
          ],
          "name": "stdout"
        },
        {
          "output_type": "display_data",
          "data": {
            "text/html": [
              "<br/>Waiting for W&B process to finish, PID 16170<br/>Program ended successfully."
            ],
            "text/plain": [
              "<IPython.core.display.HTML object>"
            ]
          },
          "metadata": {
            "tags": []
          }
        },
        {
          "output_type": "display_data",
          "data": {
            "application/vnd.jupyter.widget-view+json": {
              "model_id": "bf7d10995ff0419d9fbc92f021f57492",
              "version_minor": 0,
              "version_major": 2
            },
            "text/plain": [
              "VBox(children=(Label(value=' 24.19MB of 24.19MB uploaded (0.00MB deduped)\\r'), FloatProgress(value=1.0, max=1.…"
            ]
          },
          "metadata": {
            "tags": []
          }
        },
        {
          "output_type": "display_data",
          "data": {
            "text/html": [
              "Find user logs for this run at: <code>/content/wandb/run-20210213_031316-exfjk4o8/logs/debug.log</code>"
            ],
            "text/plain": [
              "<IPython.core.display.HTML object>"
            ]
          },
          "metadata": {
            "tags": []
          }
        },
        {
          "output_type": "display_data",
          "data": {
            "text/html": [
              "Find internal logs for this run at: <code>/content/wandb/run-20210213_031316-exfjk4o8/logs/debug-internal.log</code>"
            ],
            "text/plain": [
              "<IPython.core.display.HTML object>"
            ]
          },
          "metadata": {
            "tags": []
          }
        },
        {
          "output_type": "display_data",
          "data": {
            "text/html": [
              "<h3>Run summary:</h3><br/><style>\n",
              "    table.wandb td:nth-child(1) { padding: 0 10px; text-align: right }\n",
              "    </style><table class=\"wandb\">\n",
              "<tr><td>epoch</td><td>4</td></tr><tr><td>loss</td><td>0.41949</td></tr><tr><td>accuracy</td><td>0.7004</td></tr><tr><td>val_loss</td><td>0.58409</td></tr><tr><td>val_accuracy</td><td>0.87366</td></tr><tr><td>_runtime</td><td>96</td></tr><tr><td>_timestamp</td><td>1613186092</td></tr><tr><td>_step</td><td>4</td></tr><tr><td>best_val_loss</td><td>0.5139</td></tr><tr><td>best_epoch</td><td>1</td></tr></table>"
            ],
            "text/plain": [
              "<IPython.core.display.HTML object>"
            ]
          },
          "metadata": {
            "tags": []
          }
        },
        {
          "output_type": "display_data",
          "data": {
            "text/html": [
              "<h3>Run history:</h3><br/><style>\n",
              "    table.wandb td:nth-child(1) { padding: 0 10px; text-align: right }\n",
              "    </style><table class=\"wandb\">\n",
              "<tr><td>epoch</td><td>▁▃▅▆█</td></tr><tr><td>loss</td><td>█▃▂▂▁</td></tr><tr><td>accuracy</td><td>▁▆▇▇█</td></tr><tr><td>val_loss</td><td>▄▁▅█▄</td></tr><tr><td>val_accuracy</td><td>▁▅▆▁█</td></tr><tr><td>_runtime</td><td>▁▃▅▆█</td></tr><tr><td>_timestamp</td><td>▁▃▅▆█</td></tr><tr><td>_step</td><td>▁▃▅▆█</td></tr></table><br/>"
            ],
            "text/plain": [
              "<IPython.core.display.HTML object>"
            ]
          },
          "metadata": {
            "tags": []
          }
        },
        {
          "output_type": "display_data",
          "data": {
            "text/html": [
              "Synced 5 W&B file(s), 181 media file(s), 0 artifact file(s) and 2 other file(s)"
            ],
            "text/plain": [
              "<IPython.core.display.HTML object>"
            ]
          },
          "metadata": {
            "tags": []
          }
        },
        {
          "output_type": "display_data",
          "data": {
            "text/html": [
              "\n",
              "                    <br/>Synced <strong style=\"color:#cdcd00\">ethereal-sweep-1</strong>: <a href=\"https://wandb.ai/anya/my-shoot/runs/exfjk4o8\" target=\"_blank\">https://wandb.ai/anya/my-shoot/runs/exfjk4o8</a><br/>\n",
              "                "
            ],
            "text/plain": [
              "<IPython.core.display.HTML object>"
            ]
          },
          "metadata": {
            "tags": []
          }
        },
        {
          "output_type": "stream",
          "text": [
            "\u001b[34m\u001b[1mwandb\u001b[0m: Agent Starting Run: mtoji4pf with config:\n",
            "\u001b[34m\u001b[1mwandb\u001b[0m: \thidden_nodes: 9\n",
            "\u001b[34m\u001b[1mwandb\u001b[0m: \tlr: 0.00018251549884799835\n",
            "\u001b[34m\u001b[1mwandb\u001b[0m: \u001b[33mWARNING\u001b[0m Ignored wandb.init() arg project when running a sweep\n"
          ],
          "name": "stderr"
        },
        {
          "output_type": "display_data",
          "data": {
            "text/html": [
              "\n",
              "                Tracking run with wandb version 0.10.18<br/>\n",
              "                Syncing run <strong style=\"color:#cdcd00\">fiery-sweep-2</strong> to <a href=\"https://wandb.ai\" target=\"_blank\">Weights & Biases</a> <a href=\"https://docs.wandb.com/integrations/jupyter.html\" target=\"_blank\">(Documentation)</a>.<br/>\n",
              "                Project page: <a href=\"https://wandb.ai/anya/my-shoot\" target=\"_blank\">https://wandb.ai/anya/my-shoot</a><br/>\n",
              "                Sweep page: <a href=\"https://wandb.ai/anya/my-shoot/sweeps/71k67290\" target=\"_blank\">https://wandb.ai/anya/my-shoot/sweeps/71k67290</a><br/>\n",
              "Run page: <a href=\"https://wandb.ai/anya/my-shoot/runs/mtoji4pf\" target=\"_blank\">https://wandb.ai/anya/my-shoot/runs/mtoji4pf</a><br/>\n",
              "                Run data is saved locally in <code>/content/wandb/run-20210213_031458-mtoji4pf</code><br/><br/>\n",
              "            "
            ],
            "text/plain": [
              "<IPython.core.display.HTML object>"
            ]
          },
          "metadata": {
            "tags": []
          }
        },
        {
          "output_type": "stream",
          "text": [
            "Epoch 1/5\n",
            "40/40 [==============================] - 19s 411ms/step - loss: 1.0856 - accuracy: 0.5657 - val_loss: 0.3620 - val_accuracy: 0.9382\n",
            "Epoch 2/5\n",
            "40/40 [==============================] - 16s 390ms/step - loss: 0.4575 - accuracy: 0.7305 - val_loss: 0.2685 - val_accuracy: 0.9812\n",
            "Epoch 3/5\n",
            "40/40 [==============================] - 16s 393ms/step - loss: 0.3914 - accuracy: 0.7652 - val_loss: 0.2541 - val_accuracy: 0.9758\n",
            "Epoch 4/5\n",
            "40/40 [==============================] - 16s 397ms/step - loss: 0.3909 - accuracy: 0.7537 - val_loss: 0.2266 - val_accuracy: 0.9892\n",
            "Epoch 5/5\n",
            "40/40 [==============================] - 16s 394ms/step - loss: 0.3499 - accuracy: 0.7776 - val_loss: 0.2210 - val_accuracy: 0.9704\n"
          ],
          "name": "stdout"
        },
        {
          "output_type": "display_data",
          "data": {
            "text/html": [
              "<br/>Waiting for W&B process to finish, PID 17210<br/>Program ended successfully."
            ],
            "text/plain": [
              "<IPython.core.display.HTML object>"
            ]
          },
          "metadata": {
            "tags": []
          }
        },
        {
          "output_type": "display_data",
          "data": {
            "application/vnd.jupyter.widget-view+json": {
              "model_id": "f18f35e63fc643159ded59dc4f7c4e65",
              "version_minor": 0,
              "version_major": 2
            },
            "text/plain": [
              "VBox(children=(Label(value=' 7.71MB of 7.71MB uploaded (0.00MB deduped)\\r'), FloatProgress(value=1.0, max=1.0)…"
            ]
          },
          "metadata": {
            "tags": []
          }
        },
        {
          "output_type": "display_data",
          "data": {
            "text/html": [
              "Find user logs for this run at: <code>/content/wandb/run-20210213_031458-mtoji4pf/logs/debug.log</code>"
            ],
            "text/plain": [
              "<IPython.core.display.HTML object>"
            ]
          },
          "metadata": {
            "tags": []
          }
        },
        {
          "output_type": "display_data",
          "data": {
            "text/html": [
              "Find internal logs for this run at: <code>/content/wandb/run-20210213_031458-mtoji4pf/logs/debug-internal.log</code>"
            ],
            "text/plain": [
              "<IPython.core.display.HTML object>"
            ]
          },
          "metadata": {
            "tags": []
          }
        },
        {
          "output_type": "display_data",
          "data": {
            "text/html": [
              "<h3>Run summary:</h3><br/><style>\n",
              "    table.wandb td:nth-child(1) { padding: 0 10px; text-align: right }\n",
              "    </style><table class=\"wandb\">\n",
              "<tr><td>epoch</td><td>4</td></tr><tr><td>loss</td><td>0.35086</td></tr><tr><td>accuracy</td><td>0.78611</td></tr><tr><td>val_loss</td><td>0.22095</td></tr><tr><td>val_accuracy</td><td>0.97043</td></tr><tr><td>_runtime</td><td>96</td></tr><tr><td>_timestamp</td><td>1613186194</td></tr><tr><td>_step</td><td>4</td></tr><tr><td>best_val_loss</td><td>0.22095</td></tr><tr><td>best_epoch</td><td>4</td></tr></table>"
            ],
            "text/plain": [
              "<IPython.core.display.HTML object>"
            ]
          },
          "metadata": {
            "tags": []
          }
        },
        {
          "output_type": "display_data",
          "data": {
            "text/html": [
              "<h3>Run history:</h3><br/><style>\n",
              "    table.wandb td:nth-child(1) { padding: 0 10px; text-align: right }\n",
              "    </style><table class=\"wandb\">\n",
              "<tr><td>epoch</td><td>▁▃▅▆█</td></tr><tr><td>loss</td><td>█▃▂▂▁</td></tr><tr><td>accuracy</td><td>▁▆▆▇█</td></tr><tr><td>val_loss</td><td>█▃▃▁▁</td></tr><tr><td>val_accuracy</td><td>▁▇▆█▅</td></tr><tr><td>_runtime</td><td>▁▃▅▆█</td></tr><tr><td>_timestamp</td><td>▁▃▅▆█</td></tr><tr><td>_step</td><td>▁▃▅▆█</td></tr></table><br/>"
            ],
            "text/plain": [
              "<IPython.core.display.HTML object>"
            ]
          },
          "metadata": {
            "tags": []
          }
        },
        {
          "output_type": "display_data",
          "data": {
            "text/html": [
              "Synced 5 W&B file(s), 181 media file(s), 0 artifact file(s) and 2 other file(s)"
            ],
            "text/plain": [
              "<IPython.core.display.HTML object>"
            ]
          },
          "metadata": {
            "tags": []
          }
        },
        {
          "output_type": "display_data",
          "data": {
            "text/html": [
              "\n",
              "                    <br/>Synced <strong style=\"color:#cdcd00\">fiery-sweep-2</strong>: <a href=\"https://wandb.ai/anya/my-shoot/runs/mtoji4pf\" target=\"_blank\">https://wandb.ai/anya/my-shoot/runs/mtoji4pf</a><br/>\n",
              "                "
            ],
            "text/plain": [
              "<IPython.core.display.HTML object>"
            ]
          },
          "metadata": {
            "tags": []
          }
        },
        {
          "output_type": "stream",
          "text": [
            "\u001b[34m\u001b[1mwandb\u001b[0m: Agent Starting Run: gxldwvr2 with config:\n",
            "\u001b[34m\u001b[1mwandb\u001b[0m: \thidden_nodes: 8\n",
            "\u001b[34m\u001b[1mwandb\u001b[0m: \tlr: 0.0002835637694321943\n",
            "\u001b[34m\u001b[1mwandb\u001b[0m: \u001b[33mWARNING\u001b[0m Ignored wandb.init() arg project when running a sweep\n"
          ],
          "name": "stderr"
        },
        {
          "output_type": "display_data",
          "data": {
            "text/html": [
              "\n",
              "                Tracking run with wandb version 0.10.18<br/>\n",
              "                Syncing run <strong style=\"color:#cdcd00\">radiant-sweep-3</strong> to <a href=\"https://wandb.ai\" target=\"_blank\">Weights & Biases</a> <a href=\"https://docs.wandb.com/integrations/jupyter.html\" target=\"_blank\">(Documentation)</a>.<br/>\n",
              "                Project page: <a href=\"https://wandb.ai/anya/my-shoot\" target=\"_blank\">https://wandb.ai/anya/my-shoot</a><br/>\n",
              "                Sweep page: <a href=\"https://wandb.ai/anya/my-shoot/sweeps/71k67290\" target=\"_blank\">https://wandb.ai/anya/my-shoot/sweeps/71k67290</a><br/>\n",
              "Run page: <a href=\"https://wandb.ai/anya/my-shoot/runs/gxldwvr2\" target=\"_blank\">https://wandb.ai/anya/my-shoot/runs/gxldwvr2</a><br/>\n",
              "                Run data is saved locally in <code>/content/wandb/run-20210213_031639-gxldwvr2</code><br/><br/>\n",
              "            "
            ],
            "text/plain": [
              "<IPython.core.display.HTML object>"
            ]
          },
          "metadata": {
            "tags": []
          }
        },
        {
          "output_type": "stream",
          "text": [
            "Epoch 1/5\n",
            "40/40 [==============================] - 19s 409ms/step - loss: 0.9618 - accuracy: 0.5583 - val_loss: 0.6679 - val_accuracy: 0.8978\n",
            "Epoch 2/5\n",
            "40/40 [==============================] - 16s 395ms/step - loss: 0.6148 - accuracy: 0.7730 - val_loss: 0.6314 - val_accuracy: 0.8710\n",
            "Epoch 3/5\n",
            "40/40 [==============================] - 16s 394ms/step - loss: 0.5662 - accuracy: 0.8112 - val_loss: 0.5918 - val_accuracy: 0.8763\n",
            "Epoch 4/5\n",
            "40/40 [==============================] - 17s 406ms/step - loss: 0.5630 - accuracy: 0.8127 - val_loss: 0.6156 - val_accuracy: 0.8172\n",
            "Epoch 5/5\n",
            "40/40 [==============================] - 17s 397ms/step - loss: 0.5630 - accuracy: 0.7945 - val_loss: 0.5888 - val_accuracy: 0.8360\n"
          ],
          "name": "stdout"
        },
        {
          "output_type": "display_data",
          "data": {
            "text/html": [
              "<br/>Waiting for W&B process to finish, PID 18249<br/>Program ended successfully."
            ],
            "text/plain": [
              "<IPython.core.display.HTML object>"
            ]
          },
          "metadata": {
            "tags": []
          }
        },
        {
          "output_type": "display_data",
          "data": {
            "application/vnd.jupyter.widget-view+json": {
              "model_id": "9b28476e79554f7aadd65d0d0b0d739d",
              "version_minor": 0,
              "version_major": 2
            },
            "text/plain": [
              "VBox(children=(Label(value=' 20.02MB of 20.02MB uploaded (0.00MB deduped)\\r'), FloatProgress(value=1.0, max=1.…"
            ]
          },
          "metadata": {
            "tags": []
          }
        },
        {
          "output_type": "display_data",
          "data": {
            "text/html": [
              "Find user logs for this run at: <code>/content/wandb/run-20210213_031639-gxldwvr2/logs/debug.log</code>"
            ],
            "text/plain": [
              "<IPython.core.display.HTML object>"
            ]
          },
          "metadata": {
            "tags": []
          }
        },
        {
          "output_type": "display_data",
          "data": {
            "text/html": [
              "Find internal logs for this run at: <code>/content/wandb/run-20210213_031639-gxldwvr2/logs/debug-internal.log</code>"
            ],
            "text/plain": [
              "<IPython.core.display.HTML object>"
            ]
          },
          "metadata": {
            "tags": []
          }
        },
        {
          "output_type": "display_data",
          "data": {
            "text/html": [
              "<h3>Run summary:</h3><br/><style>\n",
              "    table.wandb td:nth-child(1) { padding: 0 10px; text-align: right }\n",
              "    </style><table class=\"wandb\">\n",
              "<tr><td>epoch</td><td>4</td></tr><tr><td>loss</td><td>0.57454</td></tr><tr><td>accuracy</td><td>0.80238</td></tr><tr><td>val_loss</td><td>0.58882</td></tr><tr><td>val_accuracy</td><td>0.83602</td></tr><tr><td>_runtime</td><td>98</td></tr><tr><td>_timestamp</td><td>1613186297</td></tr><tr><td>_step</td><td>4</td></tr><tr><td>best_val_loss</td><td>0.58882</td></tr><tr><td>best_epoch</td><td>4</td></tr></table>"
            ],
            "text/plain": [
              "<IPython.core.display.HTML object>"
            ]
          },
          "metadata": {
            "tags": []
          }
        },
        {
          "output_type": "display_data",
          "data": {
            "text/html": [
              "<h3>Run history:</h3><br/><style>\n",
              "    table.wandb td:nth-child(1) { padding: 0 10px; text-align: right }\n",
              "    </style><table class=\"wandb\">\n",
              "<tr><td>epoch</td><td>▁▃▅▆█</td></tr><tr><td>loss</td><td>█▂▁▁▁</td></tr><tr><td>accuracy</td><td>▁▆███</td></tr><tr><td>val_loss</td><td>█▅▁▃▁</td></tr><tr><td>val_accuracy</td><td>█▆▆▁▃</td></tr><tr><td>_runtime</td><td>▁▃▅▆█</td></tr><tr><td>_timestamp</td><td>▁▃▅▆█</td></tr><tr><td>_step</td><td>▁▃▅▆█</td></tr></table><br/>"
            ],
            "text/plain": [
              "<IPython.core.display.HTML object>"
            ]
          },
          "metadata": {
            "tags": []
          }
        },
        {
          "output_type": "display_data",
          "data": {
            "text/html": [
              "Synced 5 W&B file(s), 181 media file(s), 0 artifact file(s) and 2 other file(s)"
            ],
            "text/plain": [
              "<IPython.core.display.HTML object>"
            ]
          },
          "metadata": {
            "tags": []
          }
        },
        {
          "output_type": "display_data",
          "data": {
            "text/html": [
              "\n",
              "                    <br/>Synced <strong style=\"color:#cdcd00\">radiant-sweep-3</strong>: <a href=\"https://wandb.ai/anya/my-shoot/runs/gxldwvr2\" target=\"_blank\">https://wandb.ai/anya/my-shoot/runs/gxldwvr2</a><br/>\n",
              "                "
            ],
            "text/plain": [
              "<IPython.core.display.HTML object>"
            ]
          },
          "metadata": {
            "tags": []
          }
        },
        {
          "output_type": "stream",
          "text": [
            "\u001b[34m\u001b[1mwandb\u001b[0m: Agent Starting Run: v0nxljev with config:\n",
            "\u001b[34m\u001b[1mwandb\u001b[0m: \thidden_nodes: 5\n",
            "\u001b[34m\u001b[1mwandb\u001b[0m: \tlr: 0.00035788666255057763\n",
            "\u001b[34m\u001b[1mwandb\u001b[0m: \u001b[33mWARNING\u001b[0m Ignored wandb.init() arg project when running a sweep\n"
          ],
          "name": "stderr"
        },
        {
          "output_type": "display_data",
          "data": {
            "text/html": [
              "\n",
              "                Tracking run with wandb version 0.10.18<br/>\n",
              "                Syncing run <strong style=\"color:#cdcd00\">logical-sweep-4</strong> to <a href=\"https://wandb.ai\" target=\"_blank\">Weights & Biases</a> <a href=\"https://docs.wandb.com/integrations/jupyter.html\" target=\"_blank\">(Documentation)</a>.<br/>\n",
              "                Project page: <a href=\"https://wandb.ai/anya/my-shoot\" target=\"_blank\">https://wandb.ai/anya/my-shoot</a><br/>\n",
              "                Sweep page: <a href=\"https://wandb.ai/anya/my-shoot/sweeps/71k67290\" target=\"_blank\">https://wandb.ai/anya/my-shoot/sweeps/71k67290</a><br/>\n",
              "Run page: <a href=\"https://wandb.ai/anya/my-shoot/runs/v0nxljev\" target=\"_blank\">https://wandb.ai/anya/my-shoot/runs/v0nxljev</a><br/>\n",
              "                Run data is saved locally in <code>/content/wandb/run-20210213_031822-v0nxljev</code><br/><br/>\n",
              "            "
            ],
            "text/plain": [
              "<IPython.core.display.HTML object>"
            ]
          },
          "metadata": {
            "tags": []
          }
        },
        {
          "output_type": "stream",
          "text": [
            "Epoch 1/5\n",
            "40/40 [==============================] - 19s 412ms/step - loss: 1.0153 - accuracy: 0.4764 - val_loss: 0.7041 - val_accuracy: 0.9301\n",
            "Epoch 2/5\n",
            "40/40 [==============================] - 16s 397ms/step - loss: 0.7674 - accuracy: 0.6983 - val_loss: 0.7616 - val_accuracy: 0.8038\n",
            "Epoch 3/5\n",
            "40/40 [==============================] - 17s 391ms/step - loss: 0.7113 - accuracy: 0.7319 - val_loss: 0.6943 - val_accuracy: 0.8333\n",
            "Epoch 4/5\n",
            "40/40 [==============================] - 16s 393ms/step - loss: 0.6880 - accuracy: 0.7303 - val_loss: 0.6698 - val_accuracy: 0.8360\n",
            "Epoch 5/5\n",
            "40/40 [==============================] - 16s 392ms/step - loss: 0.6956 - accuracy: 0.7119 - val_loss: 0.6732 - val_accuracy: 0.8306\n"
          ],
          "name": "stdout"
        },
        {
          "output_type": "display_data",
          "data": {
            "text/html": [
              "<br/>Waiting for W&B process to finish, PID 19273<br/>Program ended successfully."
            ],
            "text/plain": [
              "<IPython.core.display.HTML object>"
            ]
          },
          "metadata": {
            "tags": []
          }
        },
        {
          "output_type": "display_data",
          "data": {
            "application/vnd.jupyter.widget-view+json": {
              "model_id": "6b96381263a6440e83c153db0eda8e2b",
              "version_minor": 0,
              "version_major": 2
            },
            "text/plain": [
              "VBox(children=(Label(value=' 17.96MB of 17.96MB uploaded (0.00MB deduped)\\r'), FloatProgress(value=1.0, max=1.…"
            ]
          },
          "metadata": {
            "tags": []
          }
        },
        {
          "output_type": "display_data",
          "data": {
            "text/html": [
              "Find user logs for this run at: <code>/content/wandb/run-20210213_031822-v0nxljev/logs/debug.log</code>"
            ],
            "text/plain": [
              "<IPython.core.display.HTML object>"
            ]
          },
          "metadata": {
            "tags": []
          }
        },
        {
          "output_type": "display_data",
          "data": {
            "text/html": [
              "Find internal logs for this run at: <code>/content/wandb/run-20210213_031822-v0nxljev/logs/debug-internal.log</code>"
            ],
            "text/plain": [
              "<IPython.core.display.HTML object>"
            ]
          },
          "metadata": {
            "tags": []
          }
        },
        {
          "output_type": "display_data",
          "data": {
            "text/html": [
              "<h3>Run summary:</h3><br/><style>\n",
              "    table.wandb td:nth-child(1) { padding: 0 10px; text-align: right }\n",
              "    </style><table class=\"wandb\">\n",
              "<tr><td>epoch</td><td>4</td></tr><tr><td>loss</td><td>0.69001</td></tr><tr><td>accuracy</td><td>0.73056</td></tr><tr><td>val_loss</td><td>0.6732</td></tr><tr><td>val_accuracy</td><td>0.83065</td></tr><tr><td>_runtime</td><td>96</td></tr><tr><td>_timestamp</td><td>1613186398</td></tr><tr><td>_step</td><td>4</td></tr><tr><td>best_val_loss</td><td>0.66979</td></tr><tr><td>best_epoch</td><td>3</td></tr></table>"
            ],
            "text/plain": [
              "<IPython.core.display.HTML object>"
            ]
          },
          "metadata": {
            "tags": []
          }
        },
        {
          "output_type": "display_data",
          "data": {
            "text/html": [
              "<h3>Run history:</h3><br/><style>\n",
              "    table.wandb td:nth-child(1) { padding: 0 10px; text-align: right }\n",
              "    </style><table class=\"wandb\">\n",
              "<tr><td>epoch</td><td>▁▃▅▆█</td></tr><tr><td>loss</td><td>█▃▂▁▁</td></tr><tr><td>accuracy</td><td>▁████</td></tr><tr><td>val_loss</td><td>▄█▃▁▁</td></tr><tr><td>val_accuracy</td><td>█▁▃▃▂</td></tr><tr><td>_runtime</td><td>▁▃▅▆█</td></tr><tr><td>_timestamp</td><td>▁▃▅▆█</td></tr><tr><td>_step</td><td>▁▃▅▆█</td></tr></table><br/>"
            ],
            "text/plain": [
              "<IPython.core.display.HTML object>"
            ]
          },
          "metadata": {
            "tags": []
          }
        },
        {
          "output_type": "display_data",
          "data": {
            "text/html": [
              "Synced 5 W&B file(s), 181 media file(s), 0 artifact file(s) and 2 other file(s)"
            ],
            "text/plain": [
              "<IPython.core.display.HTML object>"
            ]
          },
          "metadata": {
            "tags": []
          }
        },
        {
          "output_type": "display_data",
          "data": {
            "text/html": [
              "\n",
              "                    <br/>Synced <strong style=\"color:#cdcd00\">logical-sweep-4</strong>: <a href=\"https://wandb.ai/anya/my-shoot/runs/v0nxljev\" target=\"_blank\">https://wandb.ai/anya/my-shoot/runs/v0nxljev</a><br/>\n",
              "                "
            ],
            "text/plain": [
              "<IPython.core.display.HTML object>"
            ]
          },
          "metadata": {
            "tags": []
          }
        },
        {
          "output_type": "stream",
          "text": [
            "\u001b[34m\u001b[1mwandb\u001b[0m: Agent Starting Run: 9uqg0rwt with config:\n",
            "\u001b[34m\u001b[1mwandb\u001b[0m: \thidden_nodes: 6\n",
            "\u001b[34m\u001b[1mwandb\u001b[0m: \tlr: 0.0004687507707477191\n",
            "\u001b[34m\u001b[1mwandb\u001b[0m: \u001b[33mWARNING\u001b[0m Ignored wandb.init() arg project when running a sweep\n"
          ],
          "name": "stderr"
        },
        {
          "output_type": "display_data",
          "data": {
            "text/html": [
              "\n",
              "                Tracking run with wandb version 0.10.18<br/>\n",
              "                Syncing run <strong style=\"color:#cdcd00\">amber-sweep-5</strong> to <a href=\"https://wandb.ai\" target=\"_blank\">Weights & Biases</a> <a href=\"https://docs.wandb.com/integrations/jupyter.html\" target=\"_blank\">(Documentation)</a>.<br/>\n",
              "                Project page: <a href=\"https://wandb.ai/anya/my-shoot\" target=\"_blank\">https://wandb.ai/anya/my-shoot</a><br/>\n",
              "                Sweep page: <a href=\"https://wandb.ai/anya/my-shoot/sweeps/71k67290\" target=\"_blank\">https://wandb.ai/anya/my-shoot/sweeps/71k67290</a><br/>\n",
              "Run page: <a href=\"https://wandb.ai/anya/my-shoot/runs/9uqg0rwt\" target=\"_blank\">https://wandb.ai/anya/my-shoot/runs/9uqg0rwt</a><br/>\n",
              "                Run data is saved locally in <code>/content/wandb/run-20210213_032004-9uqg0rwt</code><br/><br/>\n",
              "            "
            ],
            "text/plain": [
              "<IPython.core.display.HTML object>"
            ]
          },
          "metadata": {
            "tags": []
          }
        },
        {
          "output_type": "stream",
          "text": [
            "Epoch 1/5\n",
            "40/40 [==============================] - 19s 406ms/step - loss: 1.5472 - accuracy: 0.3369 - val_loss: 1.0986 - val_accuracy: 0.3333\n",
            "Epoch 2/5\n",
            "40/40 [==============================] - 17s 401ms/step - loss: 1.0986 - accuracy: 0.3270 - val_loss: 1.0986 - val_accuracy: 0.3333\n",
            "Epoch 3/5\n",
            "40/40 [==============================] - 17s 398ms/step - loss: 1.0986 - accuracy: 0.3279 - val_loss: 1.0986 - val_accuracy: 0.3333\n",
            "Epoch 4/5\n",
            "40/40 [==============================] - 16s 392ms/step - loss: 1.0986 - accuracy: 0.3256 - val_loss: 1.0986 - val_accuracy: 0.3333\n",
            "Epoch 5/5\n",
            "40/40 [==============================] - 16s 393ms/step - loss: 1.0986 - accuracy: 0.3329 - val_loss: 1.0986 - val_accuracy: 0.3333\n"
          ],
          "name": "stdout"
        },
        {
          "output_type": "display_data",
          "data": {
            "text/html": [
              "<br/>Waiting for W&B process to finish, PID 20299<br/>Program ended successfully."
            ],
            "text/plain": [
              "<IPython.core.display.HTML object>"
            ]
          },
          "metadata": {
            "tags": []
          }
        },
        {
          "output_type": "display_data",
          "data": {
            "application/vnd.jupyter.widget-view+json": {
              "model_id": "694e62564c3d4c24a0cdfa40b03ab0cf",
              "version_minor": 0,
              "version_major": 2
            },
            "text/plain": [
              "VBox(children=(Label(value=' 10.51MB of 10.51MB uploaded (0.00MB deduped)\\r'), FloatProgress(value=1.0, max=1.…"
            ]
          },
          "metadata": {
            "tags": []
          }
        },
        {
          "output_type": "display_data",
          "data": {
            "text/html": [
              "Find user logs for this run at: <code>/content/wandb/run-20210213_032004-9uqg0rwt/logs/debug.log</code>"
            ],
            "text/plain": [
              "<IPython.core.display.HTML object>"
            ]
          },
          "metadata": {
            "tags": []
          }
        },
        {
          "output_type": "display_data",
          "data": {
            "text/html": [
              "Find internal logs for this run at: <code>/content/wandb/run-20210213_032004-9uqg0rwt/logs/debug-internal.log</code>"
            ],
            "text/plain": [
              "<IPython.core.display.HTML object>"
            ]
          },
          "metadata": {
            "tags": []
          }
        },
        {
          "output_type": "display_data",
          "data": {
            "text/html": [
              "<h3>Run summary:</h3><br/><style>\n",
              "    table.wandb td:nth-child(1) { padding: 0 10px; text-align: right }\n",
              "    </style><table class=\"wandb\">\n",
              "<tr><td>epoch</td><td>4</td></tr><tr><td>loss</td><td>1.09862</td></tr><tr><td>accuracy</td><td>0.33333</td></tr><tr><td>val_loss</td><td>1.09861</td></tr><tr><td>val_accuracy</td><td>0.33333</td></tr><tr><td>_runtime</td><td>96</td></tr><tr><td>_timestamp</td><td>1613186500</td></tr><tr><td>_step</td><td>4</td></tr><tr><td>best_val_loss</td><td>1.09861</td></tr><tr><td>best_epoch</td><td>4</td></tr></table>"
            ],
            "text/plain": [
              "<IPython.core.display.HTML object>"
            ]
          },
          "metadata": {
            "tags": []
          }
        },
        {
          "output_type": "display_data",
          "data": {
            "text/html": [
              "<h3>Run history:</h3><br/><style>\n",
              "    table.wandb td:nth-child(1) { padding: 0 10px; text-align: right }\n",
              "    </style><table class=\"wandb\">\n",
              "<tr><td>epoch</td><td>▁▃▅▆█</td></tr><tr><td>loss</td><td>█▁▁▁▁</td></tr><tr><td>accuracy</td><td>█▁▁▁▁</td></tr><tr><td>val_loss</td><td>██▆▃▁</td></tr><tr><td>val_accuracy</td><td>▁▁▁▁▁</td></tr><tr><td>_runtime</td><td>▁▃▅▆█</td></tr><tr><td>_timestamp</td><td>▁▃▅▆█</td></tr><tr><td>_step</td><td>▁▃▅▆█</td></tr></table><br/>"
            ],
            "text/plain": [
              "<IPython.core.display.HTML object>"
            ]
          },
          "metadata": {
            "tags": []
          }
        },
        {
          "output_type": "display_data",
          "data": {
            "text/html": [
              "Synced 5 W&B file(s), 181 media file(s), 0 artifact file(s) and 2 other file(s)"
            ],
            "text/plain": [
              "<IPython.core.display.HTML object>"
            ]
          },
          "metadata": {
            "tags": []
          }
        },
        {
          "output_type": "display_data",
          "data": {
            "text/html": [
              "\n",
              "                    <br/>Synced <strong style=\"color:#cdcd00\">amber-sweep-5</strong>: <a href=\"https://wandb.ai/anya/my-shoot/runs/9uqg0rwt\" target=\"_blank\">https://wandb.ai/anya/my-shoot/runs/9uqg0rwt</a><br/>\n",
              "                "
            ],
            "text/plain": [
              "<IPython.core.display.HTML object>"
            ]
          },
          "metadata": {
            "tags": []
          }
        }
      ]
    },
    {
      "cell_type": "markdown",
      "metadata": {
        "id": "cSLJsk0gbzou"
      },
      "source": [
        "After our sweep has completed.  We can use the W&B Api to find our best run and download the model file so we can use it for making predictions."
      ]
    },
    {
      "cell_type": "code",
      "metadata": {
        "colab": {
          "base_uri": "https://localhost:8080/"
        },
        "id": "0bP34T4TWbsN",
        "outputId": "e8a484dd-9a95-4e3b-9f1b-dfd4bacd7086"
      },
      "source": [
        "api = wandb.Api()\n",
        "sweep = api.sweep(SWEEP_ID)\n",
        "run = sweep.best_run()\n",
        "print(\"Best run: \", run.url)\n",
        "print(\"Accuracy: \", run.summary[\"val_accuracy\"])\n",
        "model_file = run.file(\"model-best.h5\").download(replace=True).name\n",
        "model = tf.keras.models.load_model(model_file)"
      ],
      "execution_count": 22,
      "outputs": [
        {
          "output_type": "stream",
          "text": [
            "\u001b[34m\u001b[1mwandb\u001b[0m: Sorting runs by +summary_metrics.val_loss\n"
          ],
          "name": "stderr"
        },
        {
          "output_type": "stream",
          "text": [
            "Best run:  https://wandb.ai/anya/my-shoot/runs/mtoji4pf\n",
            "Accuracy:  0.9704301357269288\n"
          ],
          "name": "stdout"
        }
      ]
    },
    {
      "cell_type": "markdown",
      "metadata": {
        "id": "CuYd2R5AcYPM"
      },
      "source": [
        "Finally, we construct a [W&B Data Viz Table](https://docs.wandb.ai/datasets-and-predictions) to analyize our results."
      ]
    },
    {
      "cell_type": "code",
      "metadata": {
        "colab": {
          "base_uri": "https://localhost:8080/",
          "height": 306,
          "referenced_widgets": [
            "ee0b61cab918467296608265964e1429",
            "c2b983bb00ae4cbf8615b7cf562b1c93",
            "2be5cc141d044db6bf9ab0e4b641ac1f",
            "8d5346fc61c7449ba01732af4e384c69",
            "6c146867342944acae92f4c5828a51e3",
            "a9edd51f4ad641938a1b1c1416c799a7",
            "aa3ae00781584dfd9dd703a7745e397c",
            "1eb6a5cb5cfa429db8be5392f3770e3b",
            "44d270bac18a4197941377ce47344d8f",
            "5ad6d39410854beb8b1ea4c66eae4a6c",
            "fc8f1994831447dfbe1b0b93cbc621c5",
            "addfc5f4a42243cbbf3b77cc9b8f92a6",
            "ff3d897e62794cc5a0aaf26e8065f9b9",
            "0aef1cecd10d4e308d127a44a58496ff",
            "bdb04dca93794c9b8440ad7592ba506c",
            "4eb3069ea6944d238954d2a45f47635e"
          ]
        },
        "id": "PYpwQfGPXFBw",
        "outputId": "634f6068-7ba0-4b10-e821-c276c51923c1"
      },
      "source": [
        "prediction_table = wandb.Table(\n",
        "    columns=[\"image\", \"label\", \"best_pred\", \"best_pred_score\", \"actual_pred_score\", \"top_preds\"]\n",
        ")\n",
        "progress = wandb.sdk.lib.ipython.jupyter_progress_bar()\n",
        "with wandb.init(project=\"shoot\", job_type=\"eval\") as run:\n",
        "  # Create a table with predictions and truth\n",
        "  print(\"Evaluating model...\")\n",
        "  BATCH_SIZE = 64\n",
        "  batched_dataset = prepare(ds['test'], batch_size=BATCH_SIZE)\n",
        "  for batch, (imgs, labels) in enumerate(batched_dataset):\n",
        "    total = len(ds['test'])\n",
        "    progress.update(batch / (total / BATCH_SIZE), \"Evaluated {} of {} examples\".format(batch * BATCH_SIZE, total))\n",
        "    preds = model(imgs)\n",
        "\n",
        "    actuals = [tf.argmax(label) for label in labels]\n",
        "    top_components_preds = [tf.reshape(tf.math.top_k(pred, k=NUM_CLASSES-1).indices,shape=[-1]) for pred in preds]\n",
        "    top_matches_preds = []\n",
        "    for comps in top_components_preds:\n",
        "      top_matches_preds.append([get_name(comp) for comp in comps])\n",
        "\n",
        "    actual_pred_scores = [preds[i,actual].numpy()*1.0 for i, actual in enumerate(actuals)]\n",
        "    best_pred_scores = [pred[tf.argmax(pred)].numpy()*1.0 for pred in preds] \n",
        "    best_pred_labels = [get_name(tf.argmax(pred)) for pred in preds]\n",
        "    for i, img in enumerate(imgs):\n",
        "      prediction_table.add_data(wandb.Image(img), get_name(actuals[i]), best_pred_labels[i], best_pred_scores[i], actual_pred_scores[i], top_matches_preds[i])\n",
        "  progress.close()\n",
        "\n",
        "  # Join our existing test data artifact to this new prediction artifact\n",
        "  eval_artifact = wandb.Artifact(name=\"evaluation\", type=\"dataset\")\n",
        "  eval_artifact.add(prediction_table, \"predictions\")\n",
        "  run.log_artifact(eval_artifact)"
      ],
      "execution_count": 23,
      "outputs": [
        {
          "output_type": "stream",
          "text": [
            "\u001b[34m\u001b[1mwandb\u001b[0m: \u001b[33mWARNING\u001b[0m Ignored wandb.init() arg project when running a sweep\n"
          ],
          "name": "stderr"
        },
        {
          "output_type": "display_data",
          "data": {
            "text/html": [
              "\n",
              "                Tracking run with wandb version 0.10.18<br/>\n",
              "                Syncing run <strong style=\"color:#cdcd00\">amber-sweep-5</strong> to <a href=\"https://wandb.ai\" target=\"_blank\">Weights & Biases</a> <a href=\"https://docs.wandb.com/integrations/jupyter.html\" target=\"_blank\">(Documentation)</a>.<br/>\n",
              "                Project page: <a href=\"https://wandb.ai/anya/my-shoot\" target=\"_blank\">https://wandb.ai/anya/my-shoot</a><br/>\n",
              "                Sweep page: <a href=\"https://wandb.ai/anya/my-shoot/sweeps/71k67290\" target=\"_blank\">https://wandb.ai/anya/my-shoot/sweeps/71k67290</a><br/>\n",
              "Run page: <a href=\"https://wandb.ai/anya/my-shoot/runs/9uqg0rwt\" target=\"_blank\">https://wandb.ai/anya/my-shoot/runs/9uqg0rwt</a><br/>\n",
              "                Run data is saved locally in <code>/content/wandb/run-20210213_032417-9uqg0rwt</code><br/><br/>\n",
              "            "
            ],
            "text/plain": [
              "<IPython.core.display.HTML object>"
            ]
          },
          "metadata": {
            "tags": []
          }
        },
        {
          "output_type": "stream",
          "text": [
            "Evaluating model...\n"
          ],
          "name": "stdout"
        },
        {
          "output_type": "display_data",
          "data": {
            "application/vnd.jupyter.widget-view+json": {
              "model_id": "ee0b61cab918467296608265964e1429",
              "version_minor": 0,
              "version_major": 2
            },
            "text/plain": [
              "VBox(children=(Label(value='Evaluated 0 of 372 examples'), FloatProgress(value=0.0, max=1.0)))"
            ]
          },
          "metadata": {
            "tags": []
          }
        },
        {
          "output_type": "display_data",
          "data": {
            "text/html": [
              "<br/>Waiting for W&B process to finish, PID 21330<br/>Program ended successfully."
            ],
            "text/plain": [
              "<IPython.core.display.HTML object>"
            ]
          },
          "metadata": {
            "tags": []
          }
        },
        {
          "output_type": "display_data",
          "data": {
            "application/vnd.jupyter.widget-view+json": {
              "model_id": "44d270bac18a4197941377ce47344d8f",
              "version_minor": 0,
              "version_major": 2
            },
            "text/plain": [
              "VBox(children=(Label(value=' 0.00MB of 11.22MB uploaded (0.00MB deduped)\\r'), FloatProgress(value=4.9138311253…"
            ]
          },
          "metadata": {
            "tags": []
          }
        },
        {
          "output_type": "display_data",
          "data": {
            "text/html": [
              "Find user logs for this run at: <code>/content/wandb/run-20210213_032417-9uqg0rwt/logs/debug.log</code>"
            ],
            "text/plain": [
              "<IPython.core.display.HTML object>"
            ]
          },
          "metadata": {
            "tags": []
          }
        },
        {
          "output_type": "display_data",
          "data": {
            "text/html": [
              "Find internal logs for this run at: <code>/content/wandb/run-20210213_032417-9uqg0rwt/logs/debug-internal.log</code>"
            ],
            "text/plain": [
              "<IPython.core.display.HTML object>"
            ]
          },
          "metadata": {
            "tags": []
          }
        },
        {
          "output_type": "display_data",
          "data": {
            "text/html": [
              "Synced 5 W&B file(s), 0 media file(s), 373 artifact file(s) and 1 other file(s)"
            ],
            "text/plain": [
              "<IPython.core.display.HTML object>"
            ]
          },
          "metadata": {
            "tags": []
          }
        },
        {
          "output_type": "display_data",
          "data": {
            "text/html": [
              "\n",
              "                    <br/>Synced <strong style=\"color:#cdcd00\">amber-sweep-5</strong>: <a href=\"https://wandb.ai/anya/my-shoot/runs/9uqg0rwt\" target=\"_blank\">https://wandb.ai/anya/my-shoot/runs/9uqg0rwt</a><br/>\n",
              "                "
            ],
            "text/plain": [
              "<IPython.core.display.HTML object>"
            ]
          },
          "metadata": {
            "tags": []
          }
        }
      ]
    },
    {
      "cell_type": "markdown",
      "metadata": {
        "id": "SLMnuIHTgt_m"
      },
      "source": [
        "$note: VizTable with latest run.  Ideally, would want the best run with the best model."
      ]
    },
    {
      "cell_type": "code",
      "metadata": {
        "id": "Zll1P2rSg61P"
      },
      "source": [
        ""
      ],
      "execution_count": null,
      "outputs": []
    }
  ]
}